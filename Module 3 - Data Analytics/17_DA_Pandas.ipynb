{
 "cells": [
  {
   "cell_type": "markdown",
   "metadata": {
    "id": "tT1dKGUpOtLK"
   },
   "source": [
    "# 19_DA_Pandas"
   ]
  },
  {
   "cell_type": "markdown",
   "metadata": {
    "id": "WtIF2hbgZQB4"
   },
   "source": [
    "### Import Library"
   ]
  },
  {
   "cell_type": "code",
   "execution_count": 2,
   "metadata": {},
   "outputs": [
    {
     "name": "stdout",
     "output_type": "stream",
     "text": [
      "Requirement already satisfied: pandas in c:\\users\\vigne\\anaconda3\\lib\\site-packages (2.2.2)\n",
      "Requirement already satisfied: numpy>=1.26.0 in c:\\users\\vigne\\anaconda3\\lib\\site-packages (from pandas) (1.26.4)\n",
      "Requirement already satisfied: python-dateutil>=2.8.2 in c:\\users\\vigne\\anaconda3\\lib\\site-packages (from pandas) (2.9.0.post0)\n",
      "Requirement already satisfied: pytz>=2020.1 in c:\\users\\vigne\\anaconda3\\lib\\site-packages (from pandas) (2024.1)\n",
      "Requirement already satisfied: tzdata>=2022.7 in c:\\users\\vigne\\anaconda3\\lib\\site-packages (from pandas) (2023.3)\n",
      "Requirement already satisfied: six>=1.5 in c:\\users\\vigne\\anaconda3\\lib\\site-packages (from python-dateutil>=2.8.2->pandas) (1.16.0)\n"
     ]
    }
   ],
   "source": [
    "!pip install pandas"
   ]
  },
  {
   "cell_type": "code",
   "execution_count": 4,
   "metadata": {
    "id": "dmEdARG_ORZd"
   },
   "outputs": [
    {
     "data": {
      "text/plain": [
       "'2.2.2'"
      ]
     },
     "execution_count": 4,
     "metadata": {},
     "output_type": "execute_result"
    }
   ],
   "source": [
    "import pandas\n",
    "pandas.__version__"
   ]
  },
  {
   "cell_type": "markdown",
   "metadata": {
    "id": "DJiSw87ubkda"
   },
   "source": [
    "### Loading Data-Series"
   ]
  },
  {
   "cell_type": "code",
   "execution_count": 6,
   "metadata": {
    "id": "H2ChyGigb-FQ"
   },
   "outputs": [
    {
     "name": "stdout",
     "output_type": "stream",
     "text": [
      "0    7\n",
      "1    9\n",
      "2    4\n",
      "dtype: int64\n"
     ]
    }
   ],
   "source": [
    "import pandas as pd\n",
    "a = [7,9,4]\n",
    "dataset = pd.Series(a)\n",
    "print(dataset)"
   ]
  },
  {
   "cell_type": "code",
   "execution_count": 8,
   "metadata": {
    "id": "xZSd-5_cbjmV"
   },
   "outputs": [
    {
     "name": "stdout",
     "output_type": "stream",
     "text": [
      "No.1    7\n",
      "No.2    9\n",
      "No.3    4\n",
      "dtype: int64\n"
     ]
    }
   ],
   "source": [
    "import pandas as pd\n",
    "a = [7,9,4]\n",
    "dataset = pd.Series(a, index = [\"No.1\",\"No.2\",\"No.3\"])\n",
    "print(dataset)"
   ]
  },
  {
   "cell_type": "markdown",
   "metadata": {
    "id": "EOvoRMP_ZWHy"
   },
   "source": [
    "### Loading Data-DataFrame"
   ]
  },
  {
   "cell_type": "code",
   "execution_count": 10,
   "metadata": {
    "id": "qZ-CmzZlaXrK"
   },
   "outputs": [
    {
     "name": "stdout",
     "output_type": "stream",
     "text": [
      "    Name  Color\n",
      "0  Champ    Red\n",
      "1   Mr.X  Black\n",
      "2   Mr.y  White\n"
     ]
    }
   ],
   "source": [
    "import pandas as pd\n",
    "data = {\"Name\":[\"Champ\",\"Mr.X\",\"Mr.y\"],\n",
    "        \"Color\":[\"Red\",\"Black\",\"White\"]}\n",
    "dataset = pd.DataFrame(data)\n",
    "print(dataset)"
   ]
  },
  {
   "cell_type": "markdown",
   "metadata": {
    "id": "UL7Hduo4clxz"
   },
   "source": [
    "### Loading Dataset from File"
   ]
  },
  {
   "cell_type": "code",
   "execution_count": 12,
   "metadata": {
    "id": "p8RELX6XcokR"
   },
   "outputs": [
    {
     "name": "stdout",
     "output_type": "stream",
     "text": [
      "   Level  Salary\n",
      "0      1   45000\n",
      "1      2   50000\n",
      "2      3   60000\n",
      "3      4   80000\n",
      "4      5  110000\n"
     ]
    }
   ],
   "source": [
    "import pandas as pd\n",
    "dataset1 = pd.read_csv(\"dataset.csv\")\n",
    "print(dataset1.head())"
   ]
  },
  {
   "cell_type": "code",
   "execution_count": 18,
   "metadata": {
    "id": "02MULponee_q"
   },
   "outputs": [
    {
     "name": "stdout",
     "output_type": "stream",
     "text": [
      "   #                   Name Type 1  Type 2  HP  Attack  Defense  Sp. Atk  \\\n",
      "0  1              Bulbasaur  Grass  Poison  45      49       49       65   \n",
      "1  2                Ivysaur  Grass  Poison  60      62       63       80   \n",
      "2  3               Venusaur  Grass  Poison  80      82       83      100   \n",
      "3  3  VenusaurMega Venusaur  Grass  Poison  80     100      123      122   \n",
      "4  4             Charmander   Fire     NaN  39      52       43       60   \n",
      "\n",
      "   Sp. Def  Speed  Generation  Legendary  \n",
      "0       65     45           1      False  \n",
      "1       80     60           1      False  \n",
      "2      100     80           1      False  \n",
      "3      120     80           1      False  \n",
      "4       50     65           1      False  \n"
     ]
    }
   ],
   "source": [
    "import pandas as pd\n",
    "dataset2 = pd.read_excel(\"./csv files/dataset.xlsx\")\n",
    "print(dataset2.head(5))"
   ]
  },
  {
   "cell_type": "code",
   "execution_count": 20,
   "metadata": {
    "id": "UrPZdng7emQG",
    "scrolled": true
   },
   "outputs": [
    {
     "name": "stdout",
     "output_type": "stream",
     "text": [
      "  #\\tName\\tType 1\\tType 2\\tHP\\tAttack\\tDefense\\tSp. Atk\\tSp. Def\\tSpeed\\tGeneration\\tLegendary\n",
      "0  1\\tBulbasaur\\tGrass\\tPoison\\t45\\t49\\t49\\t65\\t6...                                          \n",
      "1  2\\tIvysaur\\tGrass\\tPoison\\t60\\t62\\t63\\t80\\t80\\...                                          \n",
      "2  3\\tVenusaur\\tGrass\\tPoison\\t80\\t82\\t83\\t100\\t1...                                          \n",
      "3  3\\tVenusaurMega Venusaur\\tGrass\\tPoison\\t80\\t1...                                          \n",
      "4  4\\tCharmander\\tFire\\t\\t39\\t52\\t43\\t60\\t50\\t65\\...                                          \n"
     ]
    }
   ],
   "source": [
    "import pandas as pd\n",
    "dataset3 = pd.read_csv(\"./csv files/dataset.txt\")\n",
    "print(dataset3.head(5))"
   ]
  },
  {
   "cell_type": "markdown",
   "metadata": {
    "id": "v1TYm9zdgFvm"
   },
   "source": [
    "### Dataset Details"
   ]
  },
  {
   "cell_type": "code",
   "execution_count": 22,
   "metadata": {
    "id": "tKhXNXeUgIyz"
   },
   "outputs": [
    {
     "name": "stdout",
     "output_type": "stream",
     "text": [
      "(10, 2)\n",
      "          Level          Salary\n",
      "count  10.00000       10.000000\n",
      "mean    5.50000   249500.000000\n",
      "std     3.02765   299373.883668\n",
      "min     1.00000    45000.000000\n",
      "25%     3.25000    65000.000000\n",
      "50%     5.50000   130000.000000\n",
      "75%     7.75000   275000.000000\n",
      "max    10.00000  1000000.000000\n"
     ]
    }
   ],
   "source": [
    "#No.of Rows and Columns\n",
    "print(dataset1.shape) \n",
    "\n",
    "#Detailed info about Dataset\n",
    "print(dataset1.describe()) "
   ]
  },
  {
   "cell_type": "markdown",
   "metadata": {
    "id": "94Agx7rqh_v3"
   },
   "source": [
    "### Data Slicing"
   ]
  },
  {
   "cell_type": "code",
   "execution_count": null,
   "metadata": {
    "id": "8wmmPZtniIHB"
   },
   "outputs": [],
   "source": [
    "#To get only Column Title\n",
    "print(dataset1.columns)\n",
    "\n",
    "#To get data based on the specific Title\n",
    "print(dataset1[\"Name\"]) \n",
    "\n",
    "#To get data based on the multiple Title\n",
    "print(dataset1[[\"Name\",\"Speed\"]]) \n",
    "\n",
    "#To get data based on the specific Title with Specific Count\n",
    "print(dataset1[\"Name\"][0:6]) "
   ]
  },
  {
   "cell_type": "code",
   "execution_count": null,
   "metadata": {
    "id": "Jk4_xm4Ajbgx"
   },
   "outputs": [],
   "source": [
    "#integer location-acquire complete info about certain index\n",
    "print(dataset1.iloc[0]) \n",
    "\n",
    "#acquire complete info about range of index\n",
    "print(dataset1.iloc[1:5]) \n",
    "\n",
    "#acquire specific cell data\n",
    "print(dataset1.iloc[1,2]) "
   ]
  },
  {
   "cell_type": "code",
   "execution_count": null,
   "metadata": {
    "id": "CIkWC7mnkz2h"
   },
   "outputs": [],
   "source": [
    "for index,row in dataset1.iterrows():\n",
    "  print(index,row[\"Name\"])            "
   ]
  },
  {
   "cell_type": "markdown",
   "metadata": {
    "id": "ubhb6L7Ul7Ft"
   },
   "source": [
    "### Data Slicing with Filter"
   ]
  },
  {
   "cell_type": "code",
   "execution_count": null,
   "metadata": {
    "id": "6lBWl9ERl-r2"
   },
   "outputs": [],
   "source": [
    "print(dataset1.loc[dataset1[\"Speed\"]>90])"
   ]
  },
  {
   "cell_type": "markdown",
   "metadata": {
    "id": "oMSqP88ImtyF"
   },
   "source": [
    "### Slicing - Sorting Data"
   ]
  },
  {
   "cell_type": "code",
   "execution_count": null,
   "metadata": {
    "id": "ZEpMrouzmxW4"
   },
   "outputs": [],
   "source": [
    "dataset1.sort_values([\"Speed\"],ascending=False)"
   ]
  },
  {
   "cell_type": "markdown",
   "metadata": {
    "id": "i_CCdCwhns6C"
   },
   "source": [
    "### Editing Data"
   ]
  },
  {
   "cell_type": "code",
   "execution_count": null,
   "metadata": {
    "id": "HTvpCFxPnuy5"
   },
   "outputs": [],
   "source": [
    "dataset1[\"Power\"] = dataset1[\"HP\"] + dataset1[\"Attack\"]\n",
    "print(dataset1.head(5))"
   ]
  },
  {
   "cell_type": "code",
   "execution_count": null,
   "metadata": {
    "id": "gWuj4r9doNcy"
   },
   "outputs": [],
   "source": [
    "dataset1 = dataset1.drop(columns=[\"Power\"]) #removing Column\n",
    "print(dataset1.head(5))"
   ]
  },
  {
   "cell_type": "markdown",
   "metadata": {
    "id": "FcbHa5kppDJe"
   },
   "source": [
    "### Save Dataset in new file"
   ]
  },
  {
   "cell_type": "code",
   "execution_count": null,
   "metadata": {
    "id": "WvHz4WZtpF5M"
   },
   "outputs": [],
   "source": [
    "dataset1.to_csv(\"newDataset.csv\")\n",
    "dataset1.to_excel(\"newDataset.xlsx\")\n",
    "dataset1.to_csv(\"newDataset.csv\",index=False, sep=\"\\t\")"
   ]
  },
  {
   "cell_type": "markdown",
   "metadata": {
    "id": "Yed1nWuiq0I9"
   },
   "source": [
    "### Checking Null values in Dataset"
   ]
  },
  {
   "cell_type": "code",
   "execution_count": null,
   "metadata": {
    "id": "7ymmGgTrq3B3"
   },
   "outputs": [],
   "source": [
    "dataset1.isna().any()"
   ]
  },
  {
   "cell_type": "markdown",
   "metadata": {
    "id": "RFvEItlgthDc"
   },
   "source": [
    "### Acquiring Dataset without NaN Value, by removing the entire column"
   ]
  },
  {
   "cell_type": "code",
   "execution_count": null,
   "metadata": {
    "id": "MF1FB_AJtWUS"
   },
   "outputs": [],
   "source": [
    "dataset1 = dataset1[dataset1[\"Type 2\"].notna()]"
   ]
  },
  {
   "cell_type": "markdown",
   "metadata": {
    "id": "Wnm5Y6E0sBKy"
   },
   "source": [
    "### Filling NaN with mean of that specific Column"
   ]
  },
  {
   "cell_type": "code",
   "execution_count": null,
   "metadata": {
    "id": "MRjzZa2ZsINY"
   },
   "outputs": [],
   "source": [
    "MeandatasetNotNan = dataset1[\"Speed\"].fillna(dataset1[\"Speed\"].mean())\n",
    "MeandatasetNotNan"
   ]
  },
  {
   "cell_type": "markdown",
   "metadata": {
    "id": "SsBOTetGt8WR"
   },
   "source": [
    "### Mapping certain Data to another value"
   ]
  },
  {
   "cell_type": "code",
   "execution_count": null,
   "metadata": {
    "id": "7qbLc3KJuCAE"
   },
   "outputs": [],
   "source": [
    "print(dataset1.head(5))\n",
    "Generation = set(dataset1['Generation'])\n",
    "dataset1['Generation'] = dataset1['Generation'].map({1: \"one\", 2: \"two\",3: \"three\", 4: \"four\",5: \"five\", 6: \"six\"}).astype(str)\n",
    "print(dataset1.head(5))"
   ]
  }
 ],
 "metadata": {
  "colab": {
   "collapsed_sections": [],
   "name": "19_DA_Pandas.ipynb",
   "provenance": []
  },
  "kernelspec": {
   "display_name": "Python [conda env:base] *",
   "language": "python",
   "name": "conda-base-py"
  },
  "language_info": {
   "codemirror_mode": {
    "name": "ipython",
    "version": 3
   },
   "file_extension": ".py",
   "mimetype": "text/x-python",
   "name": "python",
   "nbconvert_exporter": "python",
   "pygments_lexer": "ipython3",
   "version": "3.12.7"
  }
 },
 "nbformat": 4,
 "nbformat_minor": 4
}

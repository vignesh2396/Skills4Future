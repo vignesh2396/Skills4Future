{
 "cells": [
  {
   "cell_type": "markdown",
   "metadata": {
    "id": "r3cas2_1T98w"
   },
   "source": [
    "#23_MarketBasketAnalysisusingAPIRIORI"
   ]
  },
  {
   "cell_type": "markdown",
   "metadata": {
    "id": "IODliia6U1xO"
   },
   "source": [
    "### Importing the basic libraries"
   ]
  },
  {
   "cell_type": "code",
   "execution_count": 1,
   "metadata": {
    "id": "y98nA5UdU6Hf"
   },
   "outputs": [],
   "source": [
    "import numpy as np\n",
    "import pandas as pd\n",
    "import matplotlib.pyplot as plt"
   ]
  },
  {
   "cell_type": "markdown",
   "metadata": {
    "id": "jpjZ43YlU8eI"
   },
   "source": [
    "### Load Dataset from Local Directory"
   ]
  },
  {
   "cell_type": "code",
   "execution_count": 2,
   "metadata": {
    "id": "pLVaXoYVU_Uy"
   },
   "outputs": [],
   "source": [
    "# from google.colab import files\n",
    "# uploaded = files.upload()"
   ]
  },
  {
   "cell_type": "markdown",
   "metadata": {
    "id": "fLBaNX8cVymm"
   },
   "source": [
    "### Importing the dataset"
   ]
  },
  {
   "cell_type": "code",
   "execution_count": 3,
   "metadata": {
    "id": "lBgHJ6c7gDn2"
   },
   "outputs": [
    {
     "name": "stdout",
     "output_type": "stream",
     "text": [
      "(7500, 20)\n",
      "           shrimp    almonds     avocado    vegetables mix green grapes  \\\n",
      "0         burgers  meatballs        eggs               NaN          NaN   \n",
      "1         chutney        NaN         NaN               NaN          NaN   \n",
      "2          turkey    avocado         NaN               NaN          NaN   \n",
      "3   mineral water       milk  energy bar  whole wheat rice    green tea   \n",
      "4  low fat yogurt        NaN         NaN               NaN          NaN   \n",
      "\n",
      "  whole weat flour yams cottage cheese energy drink tomato juice  \\\n",
      "0              NaN  NaN            NaN          NaN          NaN   \n",
      "1              NaN  NaN            NaN          NaN          NaN   \n",
      "2              NaN  NaN            NaN          NaN          NaN   \n",
      "3              NaN  NaN            NaN          NaN          NaN   \n",
      "4              NaN  NaN            NaN          NaN          NaN   \n",
      "\n",
      "  low fat yogurt green tea honey salad mineral water salmon antioxydant juice  \\\n",
      "0            NaN       NaN   NaN   NaN           NaN    NaN               NaN   \n",
      "1            NaN       NaN   NaN   NaN           NaN    NaN               NaN   \n",
      "2            NaN       NaN   NaN   NaN           NaN    NaN               NaN   \n",
      "3            NaN       NaN   NaN   NaN           NaN    NaN               NaN   \n",
      "4            NaN       NaN   NaN   NaN           NaN    NaN               NaN   \n",
      "\n",
      "  frozen smoothie spinach  olive oil  \n",
      "0             NaN     NaN        NaN  \n",
      "1             NaN     NaN        NaN  \n",
      "2             NaN     NaN        NaN  \n",
      "3             NaN     NaN        NaN  \n",
      "4             NaN     NaN        NaN  \n"
     ]
    }
   ],
   "source": [
    "dataset = pd.read_csv('dataset.csv')\n",
    "print(dataset.shape)\n",
    "print(dataset.head(5))"
   ]
  },
  {
   "cell_type": "markdown",
   "metadata": {
    "id": "n90Tb_w9V-vn"
   },
   "source": [
    "### Data Pre-Processing"
   ]
  },
  {
   "cell_type": "code",
   "execution_count": null,
   "metadata": {
    "id": "pm6q3gWXgG_1"
   },
   "outputs": [],
   "source": [
    "transactions = []\n",
    "for i in range(0, 7500):\n",
    "    transactions.append([str(dataset.values[i,j]) for j in range(0, 20) if dataset.values[i,j] != 'NaN'])\n",
    "transactions"
   ]
  },
  {
   "cell_type": "markdown",
   "metadata": {
    "id": "zoIEOorVTzD9"
   },
   "source": [
    "### Training APRIORI"
   ]
  },
  {
   "cell_type": "code",
   "execution_count": null,
   "metadata": {
    "id": "wOuthXLlT0GI"
   },
   "outputs": [],
   "source": [
    "!pip install apyori\n",
    "from apyori import apriori\n",
    "rules = apriori(transactions = transactions, min_support = 0.003, min_confidence = 0.2, min_lift = 3, min_length = 2, max_length = 2)"
   ]
  },
  {
   "cell_type": "markdown",
   "metadata": {
    "id": "58ZB1rCZUVfH"
   },
   "source": [
    "### Result"
   ]
  },
  {
   "cell_type": "code",
   "execution_count": null,
   "metadata": {
    "id": "0K7mijvHUW6Z"
   },
   "outputs": [],
   "source": [
    "results = list(rules)\n",
    "results"
   ]
  },
  {
   "cell_type": "markdown",
   "metadata": {
    "id": "rTMd_brsUctX"
   },
   "source": [
    "### Results in Dataframe"
   ]
  },
  {
   "cell_type": "code",
   "execution_count": null,
   "metadata": {
    "id": "PXDHbM4aUdvc"
   },
   "outputs": [],
   "source": [
    "lhs         = [tuple(result[2][0][0])[0] for result in results]\n",
    "rhs         = [tuple(result[2][0][1])[0] for result in results]\n",
    "supports    = [result[1] for result in results]\n",
    "confidences = [result[2][0][2] for result in results]\n",
    "lifts       = [result[2][0][3] for result in results]\n",
    "resultsinDataFrame = pd.DataFrame(zip(lhs, rhs, supports, confidences, lifts), columns = ['Left Hand Side', 'Right Hand Side', 'Support', 'Confidence', 'Lift'])\n",
    "resultsinDataFrame"
   ]
  }
 ],
 "metadata": {
  "colab": {
   "collapsed_sections": [],
   "name": "23_MarketBasketAnalysisusingAPIRIORI.ipynb",
   "provenance": []
  },
  "kernelspec": {
   "display_name": "Python 3 (ipykernel)",
   "language": "python",
   "name": "python3"
  },
  "language_info": {
   "codemirror_mode": {
    "name": "ipython",
    "version": 3
   },
   "file_extension": ".py",
   "mimetype": "text/x-python",
   "name": "python",
   "nbconvert_exporter": "python",
   "pygments_lexer": "ipython3",
   "version": "3.9.7"
  }
 },
 "nbformat": 4,
 "nbformat_minor": 1
}

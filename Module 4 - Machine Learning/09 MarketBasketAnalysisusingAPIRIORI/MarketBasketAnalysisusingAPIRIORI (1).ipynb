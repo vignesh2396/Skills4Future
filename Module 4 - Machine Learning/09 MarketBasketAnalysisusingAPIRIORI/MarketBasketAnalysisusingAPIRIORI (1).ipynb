{
 "cells": [
  {
   "cell_type": "markdown",
   "metadata": {
    "id": "r3cas2_1T98w"
   },
   "source": [
    "#23_MarketBasketAnalysisusingAPIRIORI"
   ]
  },
  {
   "cell_type": "markdown",
   "metadata": {
    "id": "IODliia6U1xO"
   },
   "source": [
    "### Importing the basic libraries"
   ]
  },
  {
   "cell_type": "code",
   "execution_count": 1,
   "metadata": {
    "id": "y98nA5UdU6Hf"
   },
   "outputs": [],
   "source": [
    "import numpy as np\n",
    "import pandas as pd\n",
    "import matplotlib.pyplot as plt"
   ]
  },
  {
   "cell_type": "markdown",
   "metadata": {
    "id": "jpjZ43YlU8eI"
   },
   "source": [
    "### Load Dataset from Local Directory"
   ]
  },
  {
   "cell_type": "code",
   "execution_count": 2,
   "metadata": {
    "id": "pLVaXoYVU_Uy"
   },
   "outputs": [],
   "source": [
    "# from google.colab import files\n",
    "# uploaded = files.upload()"
   ]
  },
  {
   "cell_type": "markdown",
   "metadata": {
    "id": "fLBaNX8cVymm"
   },
   "source": [
    "### Importing the dataset"
   ]
  },
  {
   "cell_type": "code",
   "execution_count": 3,
   "metadata": {
    "collapsed": true,
    "id": "lBgHJ6c7gDn2"
   },
   "outputs": [
    {
     "name": "stdout",
     "output_type": "stream",
     "text": [
      "(7500, 20)\n",
      "           shrimp    almonds     avocado    vegetables mix green grapes  \\\n",
      "0         burgers  meatballs        eggs               NaN          NaN   \n",
      "1         chutney        NaN         NaN               NaN          NaN   \n",
      "2          turkey    avocado         NaN               NaN          NaN   \n",
      "3   mineral water       milk  energy bar  whole wheat rice    green tea   \n",
      "4  low fat yogurt        NaN         NaN               NaN          NaN   \n",
      "\n",
      "  whole weat flour yams cottage cheese energy drink tomato juice  \\\n",
      "0              NaN  NaN            NaN          NaN          NaN   \n",
      "1              NaN  NaN            NaN          NaN          NaN   \n",
      "2              NaN  NaN            NaN          NaN          NaN   \n",
      "3              NaN  NaN            NaN          NaN          NaN   \n",
      "4              NaN  NaN            NaN          NaN          NaN   \n",
      "\n",
      "  low fat yogurt green tea honey salad mineral water salmon antioxydant juice  \\\n",
      "0            NaN       NaN   NaN   NaN           NaN    NaN               NaN   \n",
      "1            NaN       NaN   NaN   NaN           NaN    NaN               NaN   \n",
      "2            NaN       NaN   NaN   NaN           NaN    NaN               NaN   \n",
      "3            NaN       NaN   NaN   NaN           NaN    NaN               NaN   \n",
      "4            NaN       NaN   NaN   NaN           NaN    NaN               NaN   \n",
      "\n",
      "  frozen smoothie spinach  olive oil  \n",
      "0             NaN     NaN        NaN  \n",
      "1             NaN     NaN        NaN  \n",
      "2             NaN     NaN        NaN  \n",
      "3             NaN     NaN        NaN  \n",
      "4             NaN     NaN        NaN  \n"
     ]
    }
   ],
   "source": [
    "dataset = pd.read_csv('dataset.csv')\n",
    "print(dataset.shape)\n",
    "print(dataset.head(5))"
   ]
  },
  {
   "cell_type": "markdown",
   "metadata": {
    "id": "n90Tb_w9V-vn"
   },
   "source": [
    "### Data Pre-Processing"
   ]
  },
  {
   "cell_type": "code",
   "execution_count": 4,
   "metadata": {
    "id": "pm6q3gWXgG_1"
   },
   "outputs": [],
   "source": [
    "transactions = []\n",
    "for i in range(0, 7500):\n",
    "    transactions.append([str(dataset.values[i,j]) for j in range(0, 20) if str(dataset.values[i,j]) != 'nan'])\n",
    "# transactions"
   ]
  },
  {
   "cell_type": "markdown",
   "metadata": {
    "id": "zoIEOorVTzD9"
   },
   "source": [
    "### Training APRIORI"
   ]
  },
  {
   "cell_type": "code",
   "execution_count": 7,
   "metadata": {
    "collapsed": true
   },
   "outputs": [
    {
     "name": "stdout",
     "output_type": "stream",
     "text": [
      "Collecting apyori\n",
      "  Downloading apyori-1.1.2.tar.gz (8.6 kB)\n",
      "Building wheels for collected packages: apyori\n",
      "  Building wheel for apyori (setup.py): started\n",
      "  Building wheel for apyori (setup.py): finished with status 'done'\n",
      "  Created wheel for apyori: filename=apyori-1.1.2-py3-none-any.whl size=5979 sha256=0f4f29c53185e842ad189ecec9d339d1e9fa5bb8f951cfffb6b61a885cee8164\n",
      "  Stored in directory: c:\\users\\administrator\\appdata\\local\\pip\\cache\\wheels\\1b\\02\\6c\\a45230be8603bd95c0a51cd2b289aefdd860c1a100eab73661\n",
      "Successfully built apyori\n",
      "Installing collected packages: apyori\n",
      "Successfully installed apyori-1.1.2\n",
      "Note: you may need to restart the kernel to use updated packages.\n"
     ]
    }
   ],
   "source": [
    "pip install apyori"
   ]
  },
  {
   "cell_type": "code",
   "execution_count": 79,
   "metadata": {
    "id": "wOuthXLlT0GI"
   },
   "outputs": [],
   "source": [
    "from apyori import apriori\n",
    "# rules = apriori(transactions = transactions, min_support = 0.003, min_confidence = 0.2, min_lift = 3, min_length = 2, max_length = 2)\n",
    "rules = apriori(transactions = transactions,min_support = 0.003, min_confidence = 0.2,min_lift = 3)"
   ]
  },
  {
   "cell_type": "markdown",
   "metadata": {
    "id": "58ZB1rCZUVfH"
   },
   "source": [
    "### Result"
   ]
  },
  {
   "cell_type": "code",
   "execution_count": 80,
   "metadata": {
    "collapsed": true,
    "id": "0K7mijvHUW6Z"
   },
   "outputs": [
    {
     "data": {
      "text/plain": [
       "[RelationRecord(items=frozenset({'light cream', 'chicken'}), support=0.004533333333333334, ordered_statistics=[OrderedStatistic(items_base=frozenset({'light cream'}), items_add=frozenset({'chicken'}), confidence=0.2905982905982906, lift=4.843304843304844)]),\n",
       " RelationRecord(items=frozenset({'escalope', 'mushroom cream sauce'}), support=0.005733333333333333, ordered_statistics=[OrderedStatistic(items_base=frozenset({'mushroom cream sauce'}), items_add=frozenset({'escalope'}), confidence=0.30069930069930073, lift=3.7903273197390845)]),\n",
       " RelationRecord(items=frozenset({'escalope', 'pasta'}), support=0.005866666666666667, ordered_statistics=[OrderedStatistic(items_base=frozenset({'pasta'}), items_add=frozenset({'escalope'}), confidence=0.37288135593220345, lift=4.700185158809287)]),\n",
       " RelationRecord(items=frozenset({'fromage blanc', 'honey'}), support=0.0033333333333333335, ordered_statistics=[OrderedStatistic(items_base=frozenset({'fromage blanc'}), items_add=frozenset({'honey'}), confidence=0.2450980392156863, lift=5.178127589063795)]),\n",
       " RelationRecord(items=frozenset({'ground beef', 'herb & pepper'}), support=0.016, ordered_statistics=[OrderedStatistic(items_base=frozenset({'herb & pepper'}), items_add=frozenset({'ground beef'}), confidence=0.3234501347708895, lift=3.2915549671393096)]),\n",
       " RelationRecord(items=frozenset({'ground beef', 'tomato sauce'}), support=0.005333333333333333, ordered_statistics=[OrderedStatistic(items_base=frozenset({'tomato sauce'}), items_add=frozenset({'ground beef'}), confidence=0.37735849056603776, lift=3.840147461662528)]),\n",
       " RelationRecord(items=frozenset({'light cream', 'olive oil'}), support=0.0032, ordered_statistics=[OrderedStatistic(items_base=frozenset({'light cream'}), items_add=frozenset({'olive oil'}), confidence=0.20512820512820515, lift=3.120611639881417)]),\n",
       " RelationRecord(items=frozenset({'whole wheat pasta', 'olive oil'}), support=0.008, ordered_statistics=[OrderedStatistic(items_base=frozenset({'whole wheat pasta'}), items_add=frozenset({'olive oil'}), confidence=0.2714932126696833, lift=4.130221288078346)]),\n",
       " RelationRecord(items=frozenset({'shrimp', 'pasta'}), support=0.005066666666666666, ordered_statistics=[OrderedStatistic(items_base=frozenset({'pasta'}), items_add=frozenset({'shrimp'}), confidence=0.3220338983050848, lift=4.514493901473151)]),\n",
       " RelationRecord(items=frozenset({'avocado', 'spaghetti', 'milk'}), support=0.0033333333333333335, ordered_statistics=[OrderedStatistic(items_base=frozenset({'avocado', 'spaghetti'}), items_add=frozenset({'milk'}), confidence=0.4166666666666667, lift=3.2150205761316877)]),\n",
       " RelationRecord(items=frozenset({'cake', 'milk', 'burgers'}), support=0.0037333333333333333, ordered_statistics=[OrderedStatistic(items_base=frozenset({'cake', 'milk'}), items_add=frozenset({'burgers'}), confidence=0.27999999999999997, lift=3.2110091743119265)]),\n",
       " RelationRecord(items=frozenset({'turkey', 'chocolate', 'burgers'}), support=0.0030666666666666668, ordered_statistics=[OrderedStatistic(items_base=frozenset({'turkey', 'chocolate'}), items_add=frozenset({'burgers'}), confidence=0.27058823529411763, lift=3.10307609282245)]),\n",
       " RelationRecord(items=frozenset({'turkey', 'milk', 'burgers'}), support=0.0032, ordered_statistics=[OrderedStatistic(items_base=frozenset({'turkey', 'milk'}), items_add=frozenset({'burgers'}), confidence=0.2823529411764706, lift=3.237992444684296)]),\n",
       " RelationRecord(items=frozenset({'cake', 'frozen vegetables', 'tomatoes'}), support=0.0030666666666666668, ordered_statistics=[OrderedStatistic(items_base=frozenset({'cake', 'frozen vegetables'}), items_add=frozenset({'tomatoes'}), confidence=0.2987012987012987, lift=4.366978051188577), OrderedStatistic(items_base=frozenset({'cake', 'tomatoes'}), items_add=frozenset({'frozen vegetables'}), confidence=0.3650793650793651, lift=3.8295038295038295)]),\n",
       " RelationRecord(items=frozenset({'ground beef', 'spaghetti', 'cereals'}), support=0.0030666666666666668, ordered_statistics=[OrderedStatistic(items_base=frozenset({'ground beef', 'cereals'}), items_add=frozenset({'spaghetti'}), confidence=0.676470588235294, lift=3.884785154490586), OrderedStatistic(items_base=frozenset({'spaghetti', 'cereals'}), items_add=frozenset({'ground beef'}), confidence=0.45999999999999996, lift=4.681139755766621)]),\n",
       " RelationRecord(items=frozenset({'ground beef', 'chicken', 'milk'}), support=0.0038666666666666667, ordered_statistics=[OrderedStatistic(items_base=frozenset({'ground beef', 'chicken'}), items_add=frozenset({'milk'}), confidence=0.4084507042253521, lift=3.151625804207964)]),\n",
       " RelationRecord(items=frozenset({'chicken', 'milk', 'olive oil'}), support=0.0036, ordered_statistics=[OrderedStatistic(items_base=frozenset({'chicken', 'milk'}), items_add=frozenset({'olive oil'}), confidence=0.24324324324324323, lift=3.7004550189134364), OrderedStatistic(items_base=frozenset({'chicken', 'olive oil'}), items_add=frozenset({'milk'}), confidence=0.5, lift=3.858024691358025), OrderedStatistic(items_base=frozenset({'milk', 'olive oil'}), items_add=frozenset({'chicken'}), confidence=0.21093749999999997, lift=3.5156249999999996)]),\n",
       " RelationRecord(items=frozenset({'spaghetti', 'chicken', 'olive oil'}), support=0.0034666666666666665, ordered_statistics=[OrderedStatistic(items_base=frozenset({'spaghetti', 'chicken'}), items_add=frozenset({'olive oil'}), confidence=0.20155038759689922, lift=3.0661823670927872)]),\n",
       " RelationRecord(items=frozenset({'shrimp', 'chocolate', 'frozen vegetables'}), support=0.005333333333333333, ordered_statistics=[OrderedStatistic(items_base=frozenset({'chocolate', 'frozen vegetables'}), items_add=frozenset({'shrimp'}), confidence=0.23255813953488372, lift=3.260160834601174), OrderedStatistic(items_base=frozenset({'shrimp', 'chocolate'}), items_add=frozenset({'frozen vegetables'}), confidence=0.29629629629629634, lift=3.1080031080031083)]),\n",
       " RelationRecord(items=frozenset({'ground beef', 'chocolate', 'herb & pepper'}), support=0.004, ordered_statistics=[OrderedStatistic(items_base=frozenset({'chocolate', 'herb & pepper'}), items_add=frozenset({'ground beef'}), confidence=0.4411764705882353, lift=4.489584164737808)]),\n",
       " RelationRecord(items=frozenset({'chocolate', 'soup', 'milk'}), support=0.004, ordered_statistics=[OrderedStatistic(items_base=frozenset({'chocolate', 'soup'}), items_add=frozenset({'milk'}), confidence=0.39473684210526316, lift=3.045808966861599)]),\n",
       " RelationRecord(items=frozenset({'ground beef', 'spaghetti', 'cooking oil'}), support=0.0048, ordered_statistics=[OrderedStatistic(items_base=frozenset({'ground beef', 'cooking oil'}), items_add=frozenset({'spaghetti'}), confidence=0.5714285714285714, lift=3.281557646029315), OrderedStatistic(items_base=frozenset({'spaghetti', 'cooking oil'}), items_add=frozenset({'ground beef'}), confidence=0.30252100840336127, lift=3.0785719986773534)]),\n",
       " RelationRecord(items=frozenset({'ground beef', 'eggs', 'herb & pepper'}), support=0.0041333333333333335, ordered_statistics=[OrderedStatistic(items_base=frozenset({'ground beef', 'eggs'}), items_add=frozenset({'herb & pepper'}), confidence=0.20666666666666667, lift=4.177897574123989), OrderedStatistic(items_base=frozenset({'eggs', 'herb & pepper'}), items_add=frozenset({'ground beef'}), confidence=0.32978723404255317, lift=3.3560437656976236)]),\n",
       " RelationRecord(items=frozenset({'red wine', 'spaghetti', 'eggs'}), support=0.0037333333333333333, ordered_statistics=[OrderedStatistic(items_base=frozenset({'red wine', 'eggs'}), items_add=frozenset({'spaghetti'}), confidence=0.5283018867924528, lift=3.0338929180271026)]),\n",
       " RelationRecord(items=frozenset({'ground beef', 'french fries', 'herb & pepper'}), support=0.0032, ordered_statistics=[OrderedStatistic(items_base=frozenset({'ground beef', 'french fries'}), items_add=frozenset({'herb & pepper'}), confidence=0.23076923076923078, lift=4.665146174580137), OrderedStatistic(items_base=frozenset({'french fries', 'herb & pepper'}), items_add=frozenset({'ground beef'}), confidence=0.46153846153846156, lift=4.6967957415718615)]),\n",
       " RelationRecord(items=frozenset({'green tea', 'frozen vegetables', 'tomatoes'}), support=0.0033333333333333335, ordered_statistics=[OrderedStatistic(items_base=frozenset({'green tea', 'frozen vegetables'}), items_add=frozenset({'tomatoes'}), confidence=0.2314814814814815, lift=3.3842321854017765)]),\n",
       " RelationRecord(items=frozenset({'ground beef', 'spaghetti', 'frozen vegetables'}), support=0.008666666666666666, ordered_statistics=[OrderedStatistic(items_base=frozenset({'spaghetti', 'frozen vegetables'}), items_add=frozenset({'ground beef'}), confidence=0.3110047846889952, lift=3.164906221394116)]),\n",
       " RelationRecord(items=frozenset({'milk', 'frozen vegetables', 'olive oil'}), support=0.0048, ordered_statistics=[OrderedStatistic(items_base=frozenset({'milk', 'frozen vegetables'}), items_add=frozenset({'olive oil'}), confidence=0.20338983050847456, lift=3.094165778526489), OrderedStatistic(items_base=frozenset({'olive oil', 'frozen vegetables'}), items_add=frozenset({'milk'}), confidence=0.4235294117647058, lift=3.26797385620915)]),\n",
       " RelationRecord(items=frozenset({'soup', 'milk', 'frozen vegetables'}), support=0.004, ordered_statistics=[OrderedStatistic(items_base=frozenset({'soup', 'frozen vegetables'}), items_add=frozenset({'milk'}), confidence=0.5, lift=3.858024691358025)]),\n",
       " RelationRecord(items=frozenset({'milk', 'frozen vegetables', 'tomatoes'}), support=0.0041333333333333335, ordered_statistics=[OrderedStatistic(items_base=frozenset({'milk', 'tomatoes'}), items_add=frozenset({'frozen vegetables'}), confidence=0.29523809523809524, lift=3.096903096903097)]),\n",
       " RelationRecord(items=frozenset({'shrimp', 'frozen vegetables', 'mineral water'}), support=0.0072, ordered_statistics=[OrderedStatistic(items_base=frozenset({'shrimp', 'mineral water'}), items_add=frozenset({'frozen vegetables'}), confidence=0.3068181818181818, lift=3.2183725365543547)]),\n",
       " RelationRecord(items=frozenset({'spaghetti', 'olive oil', 'frozen vegetables'}), support=0.005733333333333333, ordered_statistics=[OrderedStatistic(items_base=frozenset({'spaghetti', 'frozen vegetables'}), items_add=frozenset({'olive oil'}), confidence=0.20574162679425836, lift=3.1299436124887174)]),\n",
       " RelationRecord(items=frozenset({'spaghetti', 'shrimp', 'frozen vegetables'}), support=0.006, ordered_statistics=[OrderedStatistic(items_base=frozenset({'spaghetti', 'frozen vegetables'}), items_add=frozenset({'shrimp'}), confidence=0.21531100478468898, lift=3.0183785717479763)]),\n",
       " RelationRecord(items=frozenset({'shrimp', 'frozen vegetables', 'tomatoes'}), support=0.004, ordered_statistics=[OrderedStatistic(items_base=frozenset({'shrimp', 'frozen vegetables'}), items_add=frozenset({'tomatoes'}), confidence=0.24000000000000002, lift=3.5087719298245617), OrderedStatistic(items_base=frozenset({'frozen vegetables', 'tomatoes'}), items_add=frozenset({'shrimp'}), confidence=0.24793388429752067, lift=3.475708658376458), OrderedStatistic(items_base=frozenset({'shrimp', 'tomatoes'}), items_add=frozenset({'frozen vegetables'}), confidence=0.35714285714285715, lift=3.746253746253746)]),\n",
       " RelationRecord(items=frozenset({'spaghetti', 'frozen vegetables', 'tomatoes'}), support=0.006666666666666667, ordered_statistics=[OrderedStatistic(items_base=frozenset({'spaghetti', 'frozen vegetables'}), items_add=frozenset({'tomatoes'}), confidence=0.23923444976076555, lift=3.497579674864993), OrderedStatistic(items_base=frozenset({'spaghetti', 'tomatoes'}), items_add=frozenset({'frozen vegetables'}), confidence=0.3184713375796178, lift=3.340608436149837)]),\n",
       " RelationRecord(items=frozenset({'ground beef', 'grated cheese', 'spaghetti'}), support=0.005333333333333333, ordered_statistics=[OrderedStatistic(items_base=frozenset({'spaghetti', 'grated cheese'}), items_add=frozenset({'ground beef'}), confidence=0.3225806451612903, lift=3.282706701098612)]),\n",
       " RelationRecord(items=frozenset({'ground beef', 'green tea', 'tomatoes'}), support=0.0030666666666666668, ordered_statistics=[OrderedStatistic(items_base=frozenset({'ground beef', 'green tea'}), items_add=frozenset({'tomatoes'}), confidence=0.2072072072072072, lift=3.0293451346082922)]),\n",
       " RelationRecord(items=frozenset({'ground beef', 'milk', 'herb & pepper'}), support=0.0036, ordered_statistics=[OrderedStatistic(items_base=frozenset({'milk', 'herb & pepper'}), items_add=frozenset({'ground beef'}), confidence=0.391304347826087, lift=3.982065954810926)]),\n",
       " RelationRecord(items=frozenset({'ground beef', 'mineral water', 'herb & pepper'}), support=0.006666666666666667, ordered_statistics=[OrderedStatistic(items_base=frozenset({'mineral water', 'herb & pepper'}), items_add=frozenset({'ground beef'}), confidence=0.390625, lift=3.975152645861601)]),\n",
       " RelationRecord(items=frozenset({'ground beef', 'spaghetti', 'herb & pepper'}), support=0.0064, ordered_statistics=[OrderedStatistic(items_base=frozenset({'spaghetti', 'herb & pepper'}), items_add=frozenset({'ground beef'}), confidence=0.3934426229508197, lift=4.003825878061259)]),\n",
       " RelationRecord(items=frozenset({'ground beef', 'milk', 'olive oil'}), support=0.004933333333333333, ordered_statistics=[OrderedStatistic(items_base=frozenset({'ground beef', 'milk'}), items_add=frozenset({'olive oil'}), confidence=0.22424242424242424, lift=3.411395906324912)]),\n",
       " RelationRecord(items=frozenset({'ground beef', 'soup', 'milk'}), support=0.004, ordered_statistics=[OrderedStatistic(items_base=frozenset({'ground beef', 'soup'}), items_add=frozenset({'milk'}), confidence=0.410958904109589, lift=3.170979198376459)]),\n",
       " RelationRecord(items=frozenset({'ground beef', 'spaghetti', 'pepper'}), support=0.0033333333333333335, ordered_statistics=[OrderedStatistic(items_base=frozenset({'spaghetti', 'pepper'}), items_add=frozenset({'ground beef'}), confidence=0.3378378378378379, lift=3.4379698558803042)]),\n",
       " RelationRecord(items=frozenset({'ground beef', 'shrimp', 'spaghetti'}), support=0.006, ordered_statistics=[OrderedStatistic(items_base=frozenset({'ground beef', 'shrimp'}), items_add=frozenset({'spaghetti'}), confidence=0.5232558139534884, lift=3.004914704939635)]),\n",
       " RelationRecord(items=frozenset({'ground beef', 'spaghetti', 'tomato sauce'}), support=0.0030666666666666668, ordered_statistics=[OrderedStatistic(items_base=frozenset({'tomato sauce'}), items_add=frozenset({'ground beef', 'spaghetti'}), confidence=0.2169811320754717, lift=5.535232961108973), OrderedStatistic(items_base=frozenset({'ground beef', 'tomato sauce'}), items_add=frozenset({'spaghetti'}), confidence=0.5750000000000001, lift=3.302067381316999), OrderedStatistic(items_base=frozenset({'spaghetti', 'tomato sauce'}), items_add=frozenset({'ground beef'}), confidence=0.48936170212765956, lift=4.979935910390022)]),\n",
       " RelationRecord(items=frozenset({'spaghetti', 'light cream', 'mineral water'}), support=0.0032, ordered_statistics=[OrderedStatistic(items_base=frozenset({'light cream'}), items_add=frozenset({'spaghetti', 'mineral water'}), confidence=0.20512820512820515, lift=3.4340659340659343)]),\n",
       " RelationRecord(items=frozenset({'shrimp', 'milk', 'olive oil'}), support=0.0032, ordered_statistics=[OrderedStatistic(items_base=frozenset({'shrimp', 'olive oil'}), items_add=frozenset({'milk'}), confidence=0.4, lift=3.08641975308642)]),\n",
       " RelationRecord(items=frozenset({'soup', 'milk', 'olive oil'}), support=0.0036, ordered_statistics=[OrderedStatistic(items_base=frozenset({'milk', 'olive oil'}), items_add=frozenset({'soup'}), confidence=0.21093749999999997, lift=4.174224934036939), OrderedStatistic(items_base=frozenset({'soup', 'milk'}), items_add=frozenset({'olive oil'}), confidence=0.23684210526315788, lift=3.603074623678872), OrderedStatistic(items_base=frozenset({'soup', 'olive oil'}), items_add=frozenset({'milk'}), confidence=0.40298507462686567, lift=3.109452736318408)]),\n",
       " RelationRecord(items=frozenset({'spaghetti', 'milk', 'olive oil'}), support=0.0072, ordered_statistics=[OrderedStatistic(items_base=frozenset({'spaghetti', 'milk'}), items_add=frozenset({'olive oil'}), confidence=0.20300751879699247, lift=3.0883496774390333)]),\n",
       " RelationRecord(items=frozenset({'soup', 'milk', 'tomatoes'}), support=0.0030666666666666668, ordered_statistics=[OrderedStatistic(items_base=frozenset({'milk', 'tomatoes'}), items_add=frozenset({'soup'}), confidence=0.21904761904761905, lift=4.334715416509612), OrderedStatistic(items_base=frozenset({'soup', 'tomatoes'}), items_add=frozenset({'milk'}), confidence=0.44230769230769235, lift=3.41286799620133)]),\n",
       " RelationRecord(items=frozenset({'whole wheat pasta', 'spaghetti', 'milk'}), support=0.004, ordered_statistics=[OrderedStatistic(items_base=frozenset({'whole wheat pasta', 'spaghetti'}), items_add=frozenset({'milk'}), confidence=0.45454545454545453, lift=3.5072951739618405)]),\n",
       " RelationRecord(items=frozenset({'soup', 'olive oil', 'mineral water'}), support=0.0052, ordered_statistics=[OrderedStatistic(items_base=frozenset({'soup', 'mineral water'}), items_add=frozenset({'olive oil'}), confidence=0.2254335260115607, lift=3.4295161157945335)]),\n",
       " RelationRecord(items=frozenset({'whole wheat pasta', 'olive oil', 'mineral water'}), support=0.0038666666666666667, ordered_statistics=[OrderedStatistic(items_base=frozenset({'whole wheat pasta', 'mineral water'}), items_add=frozenset({'olive oil'}), confidence=0.4027777777777778, lift=6.127450980392156)]),\n",
       " RelationRecord(items=frozenset({'spaghetti', 'olive oil', 'pancakes'}), support=0.005066666666666666, ordered_statistics=[OrderedStatistic(items_base=frozenset({'spaghetti', 'pancakes'}), items_add=frozenset({'olive oil'}), confidence=0.20105820105820105, lift=3.0586947422647217)]),\n",
       " RelationRecord(items=frozenset({'spaghetti', 'olive oil', 'tomatoes'}), support=0.0044, ordered_statistics=[OrderedStatistic(items_base=frozenset({'olive oil', 'tomatoes'}), items_add=frozenset({'spaghetti'}), confidence=0.6111111111111112, lift=3.50944359367024), OrderedStatistic(items_base=frozenset({'spaghetti', 'tomatoes'}), items_add=frozenset({'olive oil'}), confidence=0.21019108280254778, lift=3.1976331055154326)]),\n",
       " RelationRecord(items=frozenset({'spaghetti', 'whole wheat rice', 'tomatoes'}), support=0.0030666666666666668, ordered_statistics=[OrderedStatistic(items_base=frozenset({'spaghetti', 'whole wheat rice'}), items_add=frozenset({'tomatoes'}), confidence=0.2169811320754717, lift=3.172238773033212)]),\n",
       " RelationRecord(items=frozenset({'ground beef', 'chocolate', 'eggs', 'mineral water'}), support=0.004, ordered_statistics=[OrderedStatistic(items_base=frozenset({'ground beef', 'eggs'}), items_add=frozenset({'chocolate', 'mineral water'}), confidence=0.2, lift=3.79746835443038), OrderedStatistic(items_base=frozenset({'chocolate', 'eggs', 'mineral water'}), items_add=frozenset({'ground beef'}), confidence=0.297029702970297, lift=3.022690328734366)]),\n",
       " RelationRecord(items=frozenset({'ground beef', 'chocolate', 'frozen vegetables', 'mineral water'}), support=0.0033333333333333335, ordered_statistics=[OrderedStatistic(items_base=frozenset({'chocolate', 'frozen vegetables', 'mineral water'}), items_add=frozenset({'ground beef'}), confidence=0.34246575342465757, lift=3.4850653333581163), OrderedStatistic(items_base=frozenset({'ground beef', 'chocolate', 'mineral water'}), items_add=frozenset({'frozen vegetables'}), confidence=0.30487804878048785, lift=3.1980214907044178)]),\n",
       " RelationRecord(items=frozenset({'ground beef', 'spaghetti', 'chocolate', 'frozen vegetables'}), support=0.0030666666666666668, ordered_statistics=[OrderedStatistic(items_base=frozenset({'ground beef', 'chocolate', 'frozen vegetables'}), items_add=frozenset({'spaghetti'}), confidence=0.5348837209302326, lift=3.0716905872716267), OrderedStatistic(items_base=frozenset({'spaghetti', 'chocolate', 'frozen vegetables'}), items_add=frozenset({'ground beef'}), confidence=0.38983050847457634, lift=3.9670675896327308), OrderedStatistic(items_base=frozenset({'ground beef', 'spaghetti', 'chocolate'}), items_add=frozenset({'frozen vegetables'}), confidence=0.33333333333333337, lift=3.4965034965034967)]),\n",
       " RelationRecord(items=frozenset({'chocolate', 'milk', 'frozen vegetables', 'mineral water'}), support=0.004, ordered_statistics=[OrderedStatistic(items_base=frozenset({'chocolate', 'frozen vegetables', 'mineral water'}), items_add=frozenset({'milk'}), confidence=0.410958904109589, lift=3.170979198376459)]),\n",
       " RelationRecord(items=frozenset({'spaghetti', 'chocolate', 'milk', 'frozen vegetables'}), support=0.0034666666666666665, ordered_statistics=[OrderedStatistic(items_base=frozenset({'spaghetti', 'chocolate', 'frozen vegetables'}), items_add=frozenset({'milk'}), confidence=0.44067796610169496, lift=3.4002929483155477), OrderedStatistic(items_base=frozenset({'spaghetti', 'chocolate', 'milk'}), items_add=frozenset({'frozen vegetables'}), confidence=0.3170731707317073, lift=3.325942350332594)]),\n",
       " RelationRecord(items=frozenset({'shrimp', 'chocolate', 'frozen vegetables', 'mineral water'}), support=0.0032, ordered_statistics=[OrderedStatistic(items_base=frozenset({'chocolate', 'frozen vegetables', 'mineral water'}), items_add=frozenset({'shrimp'}), confidence=0.32876712328767127, lift=4.608884905901934), OrderedStatistic(items_base=frozenset({'shrimp', 'chocolate', 'mineral water'}), items_add=frozenset({'frozen vegetables'}), confidence=0.4210526315789474, lift=4.4166359955833645)]),\n",
       " RelationRecord(items=frozenset({'spaghetti', 'chocolate', 'olive oil', 'mineral water'}), support=0.0038666666666666667, ordered_statistics=[OrderedStatistic(items_base=frozenset({'chocolate', 'olive oil'}), items_add=frozenset({'spaghetti', 'mineral water'}), confidence=0.23577235772357721, lift=3.9470818815331006), OrderedStatistic(items_base=frozenset({'spaghetti', 'chocolate', 'mineral water'}), items_add=frozenset({'olive oil'}), confidence=0.24369747899159663, lift=3.7073652990608004)]),\n",
       " RelationRecord(items=frozenset({'spaghetti', 'shrimp', 'chocolate', 'mineral water'}), support=0.0034666666666666665, ordered_statistics=[OrderedStatistic(items_base=frozenset({'spaghetti', 'chocolate', 'mineral water'}), items_add=frozenset({'shrimp'}), confidence=0.21848739495798317, lift=3.0629074059530352)]),\n",
       " RelationRecord(items=frozenset({'eggs', 'milk', 'frozen vegetables', 'mineral water'}), support=0.0037333333333333333, ordered_statistics=[OrderedStatistic(items_base=frozenset({'eggs', 'frozen vegetables', 'mineral water'}), items_add=frozenset({'milk'}), confidence=0.4117647058823529, lift=3.177196804647785)]),\n",
       " RelationRecord(items=frozenset({'spaghetti', 'milk', 'frozen smoothie', 'mineral water'}), support=0.0032, ordered_statistics=[OrderedStatistic(items_base=frozenset({'milk', 'frozen smoothie'}), items_add=frozenset({'spaghetti', 'mineral water'}), confidence=0.22429906542056074, lift=3.755006675567423), OrderedStatistic(items_base=frozenset({'spaghetti', 'frozen smoothie'}), items_add=frozenset({'milk', 'mineral water'}), confidence=0.20512820512820515, lift=4.273504273504273), OrderedStatistic(items_base=frozenset({'spaghetti', 'frozen smoothie', 'mineral water'}), items_add=frozenset({'milk'}), confidence=0.4705882352941177, lift=3.631082062454612), OrderedStatistic(items_base=frozenset({'spaghetti', 'milk', 'mineral water'}), items_add=frozenset({'frozen smoothie'}), confidence=0.20338983050847462, lift=3.218193520703712)]),\n",
       " RelationRecord(items=frozenset({'ground beef', 'milk', 'frozen vegetables', 'mineral water'}), support=0.0037333333333333333, ordered_statistics=[OrderedStatistic(items_base=frozenset({'ground beef', 'frozen vegetables'}), items_add=frozenset({'milk', 'mineral water'}), confidence=0.22047244094488186, lift=4.593175853018372), OrderedStatistic(items_base=frozenset({'ground beef', 'frozen vegetables', 'mineral water'}), items_add=frozenset({'milk'}), confidence=0.4057971014492754, lift=3.1311504741456435), OrderedStatistic(items_base=frozenset({'milk', 'frozen vegetables', 'mineral water'}), items_add=frozenset({'ground beef'}), confidence=0.3373493975903614, lift=3.4329992970525245), OrderedStatistic(items_base=frozenset({'ground beef', 'milk', 'mineral water'}), items_add=frozenset({'frozen vegetables'}), confidence=0.3373493975903614, lift=3.5386300446541408)]),\n",
       " RelationRecord(items=frozenset({'ground beef', 'spaghetti', 'milk', 'frozen vegetables'}), support=0.0030666666666666668, ordered_statistics=[OrderedStatistic(items_base=frozenset({'ground beef', 'milk', 'frozen vegetables'}), items_add=frozenset({'spaghetti'}), confidence=0.5348837209302326, lift=3.0716905872716267), OrderedStatistic(items_base=frozenset({'spaghetti', 'milk', 'frozen vegetables'}), items_add=frozenset({'ground beef'}), confidence=0.3709677419354839, lift=3.7751127062634042), OrderedStatistic(items_base=frozenset({'ground beef', 'spaghetti', 'milk'}), items_add=frozenset({'frozen vegetables'}), confidence=0.3150684931506849, lift=3.304914263818373)]),\n",
       " RelationRecord(items=frozenset({'ground beef', 'spaghetti', 'frozen vegetables', 'mineral water'}), support=0.0044, ordered_statistics=[OrderedStatistic(items_base=frozenset({'ground beef', 'frozen vegetables'}), items_add=frozenset({'spaghetti', 'mineral water'}), confidence=0.25984251968503935, lift=4.350042182227221), OrderedStatistic(items_base=frozenset({'spaghetti', 'frozen vegetables', 'mineral water'}), items_add=frozenset({'ground beef'}), confidence=0.3666666666666667, lift=3.7313432835820897)]),\n",
       " RelationRecord(items=frozenset({'milk', 'frozen vegetables', 'olive oil', 'mineral water'}), support=0.0033333333333333335, ordered_statistics=[OrderedStatistic(items_base=frozenset({'olive oil', 'frozen vegetables'}), items_add=frozenset({'milk', 'mineral water'}), confidence=0.29411764705882354, lift=6.127450980392157), OrderedStatistic(items_base=frozenset({'milk', 'frozen vegetables', 'mineral water'}), items_add=frozenset({'olive oil'}), confidence=0.30120481927710846, lift=4.58222341699455), OrderedStatistic(items_base=frozenset({'olive oil', 'frozen vegetables', 'mineral water'}), items_add=frozenset({'milk'}), confidence=0.5102040816326531, lift=3.9367598891408417), OrderedStatistic(items_base=frozenset({'milk', 'olive oil', 'mineral water'}), items_add=frozenset({'frozen vegetables'}), confidence=0.390625, lift=4.097465034965035)]),\n",
       " RelationRecord(items=frozenset({'soup', 'milk', 'frozen vegetables', 'mineral water'}), support=0.0030666666666666668, ordered_statistics=[OrderedStatistic(items_base=frozenset({'soup', 'frozen vegetables'}), items_add=frozenset({'milk', 'mineral water'}), confidence=0.38333333333333336, lift=7.986111111111112), OrderedStatistic(items_base=frozenset({'soup', 'milk'}), items_add=frozenset({'frozen vegetables', 'mineral water'}), confidence=0.2017543859649123, lift=5.646111547525531), OrderedStatistic(items_base=frozenset({'milk', 'frozen vegetables', 'mineral water'}), items_add=frozenset({'soup'}), confidence=0.27710843373493976, lift=5.483676129319388), OrderedStatistic(items_base=frozenset({'soup', 'milk', 'frozen vegetables'}), items_add=frozenset({'mineral water'}), confidence=0.7666666666666667, lift=3.2176832680470064), OrderedStatistic(items_base=frozenset({'soup', 'frozen vegetables', 'mineral water'}), items_add=frozenset({'milk'}), confidence=0.605263157894737, lift=4.670240415854452), OrderedStatistic(items_base=frozenset({'soup', 'milk', 'mineral water'}), items_add=frozenset({'frozen vegetables'}), confidence=0.359375, lift=3.769667832167832)]),\n",
       " RelationRecord(items=frozenset({'spaghetti', 'milk', 'frozen vegetables', 'mineral water'}), support=0.004533333333333334, ordered_statistics=[OrderedStatistic(items_base=frozenset({'spaghetti', 'milk', 'mineral water'}), items_add=frozenset({'frozen vegetables'}), confidence=0.28813559322033905, lift=3.0224013274860737)]),\n",
       " RelationRecord(items=frozenset({'spaghetti', 'shrimp', 'frozen vegetables', 'mineral water'}), support=0.0033333333333333335, ordered_statistics=[OrderedStatistic(items_base=frozenset({'shrimp', 'frozen vegetables'}), items_add=frozenset({'spaghetti', 'mineral water'}), confidence=0.2, lift=3.348214285714286), OrderedStatistic(items_base=frozenset({'spaghetti', 'frozen vegetables', 'mineral water'}), items_add=frozenset({'shrimp'}), confidence=0.2777777777777778, lift=3.8940809968847354), OrderedStatistic(items_base=frozenset({'spaghetti', 'shrimp', 'mineral water'}), items_add=frozenset({'frozen vegetables'}), confidence=0.390625, lift=4.097465034965035)]),\n",
       " RelationRecord(items=frozenset({'spaghetti', 'frozen vegetables', 'tomatoes', 'mineral water'}), support=0.0030666666666666668, ordered_statistics=[OrderedStatistic(items_base=frozenset({'spaghetti', 'frozen vegetables', 'mineral water'}), items_add=frozenset({'tomatoes'}), confidence=0.25555555555555554, lift=3.73619233268356), OrderedStatistic(items_base=frozenset({'tomatoes', 'frozen vegetables', 'mineral water'}), items_add=frozenset({'spaghetti'}), confidence=0.5227272727272727, lift=3.0018794375609077), OrderedStatistic(items_base=frozenset({'spaghetti', 'tomatoes', 'mineral water'}), items_add=frozenset({'frozen vegetables'}), confidence=0.32857142857142857, lift=3.4465534465534464)]),\n",
       " RelationRecord(items=frozenset({'ground beef', 'spaghetti', 'milk', 'mineral water'}), support=0.0044, ordered_statistics=[OrderedStatistic(items_base=frozenset({'ground beef', 'milk'}), items_add=frozenset({'spaghetti', 'mineral water'}), confidence=0.2, lift=3.348214285714286)]),\n",
       " RelationRecord(items=frozenset({'ground beef', 'spaghetti', 'olive oil', 'mineral water'}), support=0.0030666666666666668, ordered_statistics=[OrderedStatistic(items_base=frozenset({'ground beef', 'olive oil'}), items_add=frozenset({'spaghetti', 'mineral water'}), confidence=0.2169811320754717, lift=3.632496630727763), OrderedStatistic(items_base=frozenset({'spaghetti', 'olive oil', 'mineral water'}), items_add=frozenset({'ground beef'}), confidence=0.2987012987012987, lift=3.0397011401081957)]),\n",
       " RelationRecord(items=frozenset({'ground beef', 'spaghetti', 'pancakes', 'mineral water'}), support=0.0030666666666666668, ordered_statistics=[OrderedStatistic(items_base=frozenset({'ground beef', 'pancakes'}), items_add=frozenset({'spaghetti', 'mineral water'}), confidence=0.21100917431192662, lift=3.532519659239843)]),\n",
       " RelationRecord(items=frozenset({'ground beef', 'spaghetti', 'tomatoes', 'mineral water'}), support=0.0030666666666666668, ordered_statistics=[OrderedStatistic(items_base=frozenset({'ground beef', 'tomatoes'}), items_add=frozenset({'spaghetti', 'mineral water'}), confidence=0.26136363636363635, lift=4.375507305194805), OrderedStatistic(items_base=frozenset({'ground beef', 'tomatoes', 'mineral water'}), items_add=frozenset({'spaghetti'}), confidence=0.5609756097560976, lift=3.221529152504389), OrderedStatistic(items_base=frozenset({'spaghetti', 'tomatoes', 'mineral water'}), items_add=frozenset({'ground beef'}), confidence=0.32857142857142857, lift=3.3436712541190152)]),\n",
       " RelationRecord(items=frozenset({'spaghetti', 'milk', 'olive oil', 'mineral water'}), support=0.0033333333333333335, ordered_statistics=[OrderedStatistic(items_base=frozenset({'spaghetti', 'milk', 'mineral water'}), items_add=frozenset({'olive oil'}), confidence=0.21186440677966106, lift=3.2230893526317606)]),\n",
       " RelationRecord(items=frozenset({'spaghetti', 'milk', 'tomatoes', 'mineral water'}), support=0.0033333333333333335, ordered_statistics=[OrderedStatistic(items_base=frozenset({'milk', 'tomatoes'}), items_add=frozenset({'spaghetti', 'mineral water'}), confidence=0.2380952380952381, lift=3.985969387755102), OrderedStatistic(items_base=frozenset({'spaghetti', 'milk', 'mineral water'}), items_add=frozenset({'tomatoes'}), confidence=0.21186440677966106, lift=3.0974328476558632)])]"
      ]
     },
     "execution_count": 80,
     "metadata": {},
     "output_type": "execute_result"
    }
   ],
   "source": [
    "results = list(rules)\n",
    "results"
   ]
  },
  {
   "cell_type": "markdown",
   "metadata": {
    "id": "rTMd_brsUctX"
   },
   "source": [
    "### Results in Dataframe"
   ]
  },
  {
   "cell_type": "code",
   "execution_count": 81,
   "metadata": {
    "id": "PXDHbM4aUdvc"
   },
   "outputs": [],
   "source": [
    "# lhs         = [tuple(result[2][0][0])[0] for result in results]\n",
    "# rhs         = [tuple(result[2][0][1])[0] for result in results]\n",
    "# supports    = [result[1] for result in results]\n",
    "# confidences = [result[2][0][2] for result in results]\n",
    "# lifts       = [result[2][0][3] for result in results]\n",
    "# resultsinDataFrame = pd.DataFrame(zip(lhs, rhs, supports, confidences, lifts), columns = ['Left Hand Side', 'Right Hand Side', 'Support', 'Confidence', 'Lift'])\n",
    "# resultsinDataFrame"
   ]
  },
  {
   "cell_type": "code",
   "execution_count": 82,
   "metadata": {
    "collapsed": true
   },
   "outputs": [
    {
     "data": {
      "text/html": [
       "<div>\n",
       "<style scoped>\n",
       "    .dataframe tbody tr th:only-of-type {\n",
       "        vertical-align: middle;\n",
       "    }\n",
       "\n",
       "    .dataframe tbody tr th {\n",
       "        vertical-align: top;\n",
       "    }\n",
       "\n",
       "    .dataframe thead th {\n",
       "        text-align: right;\n",
       "    }\n",
       "</style>\n",
       "<table border=\"1\" class=\"dataframe\">\n",
       "  <thead>\n",
       "    <tr style=\"text-align: right;\">\n",
       "      <th></th>\n",
       "      <th>Left Hand Side</th>\n",
       "      <th>Right Hand Side</th>\n",
       "      <th>Support</th>\n",
       "      <th>Confidence</th>\n",
       "    </tr>\n",
       "  </thead>\n",
       "  <tbody>\n",
       "    <tr>\n",
       "      <th>0</th>\n",
       "      <td>(light cream,)</td>\n",
       "      <td>(chicken,)</td>\n",
       "      <td>0.004533</td>\n",
       "      <td>0.290598</td>\n",
       "    </tr>\n",
       "    <tr>\n",
       "      <th>1</th>\n",
       "      <td>(mushroom cream sauce,)</td>\n",
       "      <td>(escalope,)</td>\n",
       "      <td>0.005733</td>\n",
       "      <td>0.300699</td>\n",
       "    </tr>\n",
       "    <tr>\n",
       "      <th>2</th>\n",
       "      <td>(pasta,)</td>\n",
       "      <td>(escalope,)</td>\n",
       "      <td>0.005867</td>\n",
       "      <td>0.372881</td>\n",
       "    </tr>\n",
       "    <tr>\n",
       "      <th>3</th>\n",
       "      <td>(fromage blanc,)</td>\n",
       "      <td>(honey,)</td>\n",
       "      <td>0.003333</td>\n",
       "      <td>0.245098</td>\n",
       "    </tr>\n",
       "    <tr>\n",
       "      <th>4</th>\n",
       "      <td>(herb &amp; pepper,)</td>\n",
       "      <td>(ground beef,)</td>\n",
       "      <td>0.016000</td>\n",
       "      <td>0.323450</td>\n",
       "    </tr>\n",
       "    <tr>\n",
       "      <th>...</th>\n",
       "      <td>...</td>\n",
       "      <td>...</td>\n",
       "      <td>...</td>\n",
       "      <td>...</td>\n",
       "    </tr>\n",
       "    <tr>\n",
       "      <th>75</th>\n",
       "      <td>(ground beef, olive oil)</td>\n",
       "      <td>(spaghetti, mineral water)</td>\n",
       "      <td>0.003067</td>\n",
       "      <td>0.216981</td>\n",
       "    </tr>\n",
       "    <tr>\n",
       "      <th>76</th>\n",
       "      <td>(ground beef, pancakes)</td>\n",
       "      <td>(spaghetti, mineral water)</td>\n",
       "      <td>0.003067</td>\n",
       "      <td>0.211009</td>\n",
       "    </tr>\n",
       "    <tr>\n",
       "      <th>77</th>\n",
       "      <td>(ground beef, tomatoes)</td>\n",
       "      <td>(spaghetti, mineral water)</td>\n",
       "      <td>0.003067</td>\n",
       "      <td>0.261364</td>\n",
       "    </tr>\n",
       "    <tr>\n",
       "      <th>78</th>\n",
       "      <td>(spaghetti, milk, mineral water)</td>\n",
       "      <td>(olive oil,)</td>\n",
       "      <td>0.003333</td>\n",
       "      <td>0.211864</td>\n",
       "    </tr>\n",
       "    <tr>\n",
       "      <th>79</th>\n",
       "      <td>(milk, tomatoes)</td>\n",
       "      <td>(spaghetti, mineral water)</td>\n",
       "      <td>0.003333</td>\n",
       "      <td>0.238095</td>\n",
       "    </tr>\n",
       "  </tbody>\n",
       "</table>\n",
       "<p>80 rows × 4 columns</p>\n",
       "</div>"
      ],
      "text/plain": [
       "                      Left Hand Side             Right Hand Side   Support  \\\n",
       "0                     (light cream,)                  (chicken,)  0.004533   \n",
       "1            (mushroom cream sauce,)                 (escalope,)  0.005733   \n",
       "2                           (pasta,)                 (escalope,)  0.005867   \n",
       "3                   (fromage blanc,)                    (honey,)  0.003333   \n",
       "4                   (herb & pepper,)              (ground beef,)  0.016000   \n",
       "..                               ...                         ...       ...   \n",
       "75          (ground beef, olive oil)  (spaghetti, mineral water)  0.003067   \n",
       "76           (ground beef, pancakes)  (spaghetti, mineral water)  0.003067   \n",
       "77           (ground beef, tomatoes)  (spaghetti, mineral water)  0.003067   \n",
       "78  (spaghetti, milk, mineral water)                (olive oil,)  0.003333   \n",
       "79                  (milk, tomatoes)  (spaghetti, mineral water)  0.003333   \n",
       "\n",
       "    Confidence  \n",
       "0     0.290598  \n",
       "1     0.300699  \n",
       "2     0.372881  \n",
       "3     0.245098  \n",
       "4     0.323450  \n",
       "..         ...  \n",
       "75    0.216981  \n",
       "76    0.211009  \n",
       "77    0.261364  \n",
       "78    0.211864  \n",
       "79    0.238095  \n",
       "\n",
       "[80 rows x 4 columns]"
      ]
     },
     "execution_count": 82,
     "metadata": {},
     "output_type": "execute_result"
    }
   ],
   "source": [
    "lhs         = [tuple(result[2][0][0]) for result in results]\n",
    "rhs         = [tuple(result[2][0][1]) for result in results]\n",
    "supports    = [result[1] for result in results]\n",
    "confidences = [result[2][0][2] for result in results]\n",
    "#lifts       = [result[2][0][3] for result in results]\n",
    "resultsinDataFrame = pd.DataFrame(zip(lhs, rhs, supports, confidences), columns = ['Left Hand Side', 'Right Hand Side', 'Support', 'Confidence'])\n",
    "resultsinDataFrame"
   ]
  },
  {
   "cell_type": "code",
   "execution_count": 56,
   "metadata": {},
   "outputs": [],
   "source": [
    "result = pd.DataFrame(zip(lhs, rhs), columns=['Left Hand Side', 'Right Hand Side'])\n",
    "\n",
    "result.to_csv('result.csv')"
   ]
  },
  {
   "cell_type": "code",
   "execution_count": 31,
   "metadata": {},
   "outputs": [],
   "source": [
    "df = pd.DataFrame(results)"
   ]
  },
  {
   "cell_type": "code",
   "execution_count": 32,
   "metadata": {
    "collapsed": true
   },
   "outputs": [
    {
     "data": {
      "text/html": [
       "<div>\n",
       "<style scoped>\n",
       "    .dataframe tbody tr th:only-of-type {\n",
       "        vertical-align: middle;\n",
       "    }\n",
       "\n",
       "    .dataframe tbody tr th {\n",
       "        vertical-align: top;\n",
       "    }\n",
       "\n",
       "    .dataframe thead th {\n",
       "        text-align: right;\n",
       "    }\n",
       "</style>\n",
       "<table border=\"1\" class=\"dataframe\">\n",
       "  <thead>\n",
       "    <tr style=\"text-align: right;\">\n",
       "      <th></th>\n",
       "      <th>items</th>\n",
       "      <th>support</th>\n",
       "      <th>ordered_statistics</th>\n",
       "    </tr>\n",
       "  </thead>\n",
       "  <tbody>\n",
       "    <tr>\n",
       "      <th>0</th>\n",
       "      <td>(mineral water)</td>\n",
       "      <td>0.238267</td>\n",
       "      <td>[((), (mineral water), 0.23826666666666665, 1.0)]</td>\n",
       "    </tr>\n",
       "    <tr>\n",
       "      <th>1</th>\n",
       "      <td>(almonds, burgers)</td>\n",
       "      <td>0.005200</td>\n",
       "      <td>[((almonds), (burgers), 0.2565789473684211, 2....</td>\n",
       "    </tr>\n",
       "    <tr>\n",
       "      <th>2</th>\n",
       "      <td>(chocolate, almonds)</td>\n",
       "      <td>0.006000</td>\n",
       "      <td>[((almonds), (chocolate), 0.2960526315789474, ...</td>\n",
       "    </tr>\n",
       "    <tr>\n",
       "      <th>3</th>\n",
       "      <td>(eggs, almonds)</td>\n",
       "      <td>0.006533</td>\n",
       "      <td>[((almonds), (eggs), 0.32236842105263164, 1.79...</td>\n",
       "    </tr>\n",
       "    <tr>\n",
       "      <th>4</th>\n",
       "      <td>(almonds, french fries)</td>\n",
       "      <td>0.004400</td>\n",
       "      <td>[((almonds), (french fries), 0.217105263157894...</td>\n",
       "    </tr>\n",
       "    <tr>\n",
       "      <th>...</th>\n",
       "      <td>...</td>\n",
       "      <td>...</td>\n",
       "      <td>...</td>\n",
       "    </tr>\n",
       "    <tr>\n",
       "      <th>814</th>\n",
       "      <td>(ground beef, spaghetti, pancakes, mineral water)</td>\n",
       "      <td>0.003067</td>\n",
       "      <td>[((ground beef, pancakes), (spaghetti, mineral...</td>\n",
       "    </tr>\n",
       "    <tr>\n",
       "      <th>815</th>\n",
       "      <td>(ground beef, spaghetti, tomatoes, mineral water)</td>\n",
       "      <td>0.003067</td>\n",
       "      <td>[((ground beef, tomatoes), (spaghetti, mineral...</td>\n",
       "    </tr>\n",
       "    <tr>\n",
       "      <th>816</th>\n",
       "      <td>(spaghetti, milk, olive oil, mineral water)</td>\n",
       "      <td>0.003333</td>\n",
       "      <td>[((milk, olive oil, mineral water), (spaghetti...</td>\n",
       "    </tr>\n",
       "    <tr>\n",
       "      <th>817</th>\n",
       "      <td>(spaghetti, shrimp, milk, mineral water)</td>\n",
       "      <td>0.003067</td>\n",
       "      <td>[((shrimp, milk, mineral water), (spaghetti), ...</td>\n",
       "    </tr>\n",
       "    <tr>\n",
       "      <th>818</th>\n",
       "      <td>(spaghetti, milk, tomatoes, mineral water)</td>\n",
       "      <td>0.003333</td>\n",
       "      <td>[((milk, tomatoes), (spaghetti, mineral water)...</td>\n",
       "    </tr>\n",
       "  </tbody>\n",
       "</table>\n",
       "<p>819 rows × 3 columns</p>\n",
       "</div>"
      ],
      "text/plain": [
       "                                                 items   support  \\\n",
       "0                                      (mineral water)  0.238267   \n",
       "1                                   (almonds, burgers)  0.005200   \n",
       "2                                 (chocolate, almonds)  0.006000   \n",
       "3                                      (eggs, almonds)  0.006533   \n",
       "4                              (almonds, french fries)  0.004400   \n",
       "..                                                 ...       ...   \n",
       "814  (ground beef, spaghetti, pancakes, mineral water)  0.003067   \n",
       "815  (ground beef, spaghetti, tomatoes, mineral water)  0.003067   \n",
       "816        (spaghetti, milk, olive oil, mineral water)  0.003333   \n",
       "817           (spaghetti, shrimp, milk, mineral water)  0.003067   \n",
       "818         (spaghetti, milk, tomatoes, mineral water)  0.003333   \n",
       "\n",
       "                                    ordered_statistics  \n",
       "0    [((), (mineral water), 0.23826666666666665, 1.0)]  \n",
       "1    [((almonds), (burgers), 0.2565789473684211, 2....  \n",
       "2    [((almonds), (chocolate), 0.2960526315789474, ...  \n",
       "3    [((almonds), (eggs), 0.32236842105263164, 1.79...  \n",
       "4    [((almonds), (french fries), 0.217105263157894...  \n",
       "..                                                 ...  \n",
       "814  [((ground beef, pancakes), (spaghetti, mineral...  \n",
       "815  [((ground beef, tomatoes), (spaghetti, mineral...  \n",
       "816  [((milk, olive oil, mineral water), (spaghetti...  \n",
       "817  [((shrimp, milk, mineral water), (spaghetti), ...  \n",
       "818  [((milk, tomatoes), (spaghetti, mineral water)...  \n",
       "\n",
       "[819 rows x 3 columns]"
      ]
     },
     "execution_count": 32,
     "metadata": {},
     "output_type": "execute_result"
    }
   ],
   "source": [
    "df"
   ]
  },
  {
   "cell_type": "code",
   "execution_count": null,
   "metadata": {},
   "outputs": [],
   "source": [
    "\n"
   ]
  },
  {
   "cell_type": "code",
   "execution_count": null,
   "metadata": {},
   "outputs": [],
   "source": [
    "RelationRecord(items=frozenset({'light cream', 'chicken'}), \n",
    "               support=0.004533333333333334, \n",
    "               ordered_statistics=[OrderedStatistic(items_base=frozenset({'light cream'}), \n",
    "                                                    items_add=frozenset({'chicken'}), \n",
    "                                                    confidence=0.2905982905982906, \n",
    "                                                    lift=4.843304843304844)])"
   ]
  }
 ],
 "metadata": {
  "colab": {
   "collapsed_sections": [],
   "name": "23_MarketBasketAnalysisusingAPIRIORI.ipynb",
   "provenance": []
  },
  "kernelspec": {
   "display_name": "Python 3",
   "language": "python",
   "name": "python3"
  },
  "language_info": {
   "codemirror_mode": {
    "name": "ipython",
    "version": 3
   },
   "file_extension": ".py",
   "mimetype": "text/x-python",
   "name": "python",
   "nbconvert_exporter": "python",
   "pygments_lexer": "ipython3",
   "version": "3.8.3"
  }
 },
 "nbformat": 4,
 "nbformat_minor": 1
}

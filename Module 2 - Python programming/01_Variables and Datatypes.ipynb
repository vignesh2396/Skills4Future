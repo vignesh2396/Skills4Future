{
 "cells": [
  {
   "cell_type": "markdown",
   "id": "cb7c5efb",
   "metadata": {},
   "source": [
    "# Basic datatypes in Python"
   ]
  },
  {
   "cell_type": "markdown",
   "id": "81bb3d4b",
   "metadata": {},
   "source": [
    "## integer (int)"
   ]
  },
  {
   "cell_type": "code",
   "execution_count": 1,
   "id": "3fc77cce",
   "metadata": {},
   "outputs": [
    {
     "name": "stdout",
     "output_type": "stream",
     "text": [
      "<class 'int'>\n"
     ]
    }
   ],
   "source": [
    "integer_number = 20\n",
    "print(type(integer_number))"
   ]
  },
  {
   "cell_type": "markdown",
   "id": "1ad72438",
   "metadata": {},
   "source": [
    "## floating point number"
   ]
  },
  {
   "cell_type": "code",
   "execution_count": 3,
   "id": "f8a0ef26",
   "metadata": {
    "collapsed": true,
    "jupyter": {
     "outputs_hidden": true
    },
    "scrolled": true
   },
   "outputs": [
    {
     "name": "stdout",
     "output_type": "stream",
     "text": [
      "<class 'float'>\n"
     ]
    }
   ],
   "source": [
    "float_number = 20.55\n",
    "print(type(float_number))"
   ]
  },
  {
   "cell_type": "markdown",
   "id": "9ee88974",
   "metadata": {},
   "source": [
    "## complex number"
   ]
  },
  {
   "cell_type": "code",
   "execution_count": 5,
   "id": "6f81b7aa",
   "metadata": {},
   "outputs": [
    {
     "name": "stdout",
     "output_type": "stream",
     "text": [
      "<class 'complex'>\n"
     ]
    }
   ],
   "source": [
    "complex_value = 20+3j\n",
    "print(type(complex_value))"
   ]
  },
  {
   "cell_type": "markdown",
   "id": "5367c31e",
   "metadata": {},
   "source": [
    "# sequence data type"
   ]
  },
  {
   "cell_type": "markdown",
   "id": "a11d3443",
   "metadata": {},
   "source": [
    "## list data type"
   ]
  },
  {
   "cell_type": "code",
   "execution_count": 7,
   "id": "5aec9717",
   "metadata": {},
   "outputs": [
    {
     "name": "stdout",
     "output_type": "stream",
     "text": [
      "<class 'list'>\n",
      "['orange', 'apple', 'mango']\n",
      "[1, 'Edunet Foundation', 23.4, (20+3j)]\n"
     ]
    }
   ],
   "source": [
    "fruits = ['orange',\"apple\", 'mango']\n",
    "print(type(fruits))\n",
    "print(fruits)\n",
    "\n",
    "combined = [1, 'Edunet Foundation', 23.4, complex_value]\n",
    "print(combined)\n",
    "\n",
    "# different ways to create empty list\n",
    "empty_list = []\n",
    "empty_list1 = list()"
   ]
  },
  {
   "cell_type": "code",
   "execution_count": 11,
   "id": "593aca64-42a2-40aa-ba21-dd79373571b7",
   "metadata": {},
   "outputs": [
    {
     "data": {
      "text/plain": [
       "['orange', 'apple', 'mango', [3, 2]]"
      ]
     },
     "execution_count": 11,
     "metadata": {},
     "output_type": "execute_result"
    }
   ],
   "source": [
    "# in append method we can add only one element at a time\n",
    "# values will be added in the end of the list\n",
    "fruits.append([3,2])\n",
    "fruits"
   ]
  },
  {
   "cell_type": "code",
   "execution_count": 13,
   "id": "e6b1f6d8-e7e6-4581-8197-3849d0856312",
   "metadata": {},
   "outputs": [
    {
     "data": {
      "text/plain": [
       "['orange', 'apple', 'mango', [3, 2], 2, 9, 7]"
      ]
     },
     "execution_count": 13,
     "metadata": {},
     "output_type": "execute_result"
    }
   ],
   "source": [
    "# we can pass multiple values to the existing list \n",
    "# using extend method.\n",
    "fruits.extend([2,9,7])\n",
    "fruits"
   ]
  },
  {
   "cell_type": "code",
   "execution_count": 17,
   "id": "7e242367-c0a0-4505-9064-b932aa47daf5",
   "metadata": {},
   "outputs": [
    {
     "name": "stdout",
     "output_type": "stream",
     "text": [
      "  EDUNET FOUNDATION     \n",
      "  edunet foundation     \n",
      "Edunet Foundation\n",
      "Edunet Foundation     \n",
      "  Edunet Foundation\n"
     ]
    }
   ],
   "source": [
    "name = \"  Edunet Foundation     \"\n",
    "print(name.upper())\n",
    "print(name.lower())\n",
    "print(name.strip())\n",
    "print(name.lstrip())\n",
    "print(name.rstrip())"
   ]
  },
  {
   "cell_type": "code",
   "execution_count": 21,
   "id": "10868752-d869-4bf7-ad0e-7315d9b665f7",
   "metadata": {
    "collapsed": true,
    "jupyter": {
     "outputs_hidden": true
    }
   },
   "outputs": [
    {
     "data": {
      "text/plain": [
       "['__add__',\n",
       " '__class__',\n",
       " '__contains__',\n",
       " '__delattr__',\n",
       " '__dir__',\n",
       " '__doc__',\n",
       " '__eq__',\n",
       " '__format__',\n",
       " '__ge__',\n",
       " '__getattribute__',\n",
       " '__getitem__',\n",
       " '__getnewargs__',\n",
       " '__getstate__',\n",
       " '__gt__',\n",
       " '__hash__',\n",
       " '__init__',\n",
       " '__init_subclass__',\n",
       " '__iter__',\n",
       " '__le__',\n",
       " '__len__',\n",
       " '__lt__',\n",
       " '__mod__',\n",
       " '__mul__',\n",
       " '__ne__',\n",
       " '__new__',\n",
       " '__reduce__',\n",
       " '__reduce_ex__',\n",
       " '__repr__',\n",
       " '__rmod__',\n",
       " '__rmul__',\n",
       " '__setattr__',\n",
       " '__sizeof__',\n",
       " '__str__',\n",
       " '__subclasshook__',\n",
       " 'capitalize',\n",
       " 'casefold',\n",
       " 'center',\n",
       " 'count',\n",
       " 'encode',\n",
       " 'endswith',\n",
       " 'expandtabs',\n",
       " 'find',\n",
       " 'format',\n",
       " 'format_map',\n",
       " 'index',\n",
       " 'isalnum',\n",
       " 'isalpha',\n",
       " 'isascii',\n",
       " 'isdecimal',\n",
       " 'isdigit',\n",
       " 'isidentifier',\n",
       " 'islower',\n",
       " 'isnumeric',\n",
       " 'isprintable',\n",
       " 'isspace',\n",
       " 'istitle',\n",
       " 'isupper',\n",
       " 'join',\n",
       " 'ljust',\n",
       " 'lower',\n",
       " 'lstrip',\n",
       " 'maketrans',\n",
       " 'partition',\n",
       " 'removeprefix',\n",
       " 'removesuffix',\n",
       " 'replace',\n",
       " 'rfind',\n",
       " 'rindex',\n",
       " 'rjust',\n",
       " 'rpartition',\n",
       " 'rsplit',\n",
       " 'rstrip',\n",
       " 'split',\n",
       " 'splitlines',\n",
       " 'startswith',\n",
       " 'strip',\n",
       " 'swapcase',\n",
       " 'title',\n",
       " 'translate',\n",
       " 'upper',\n",
       " 'zfill']"
      ]
     },
     "execution_count": 21,
     "metadata": {},
     "output_type": "execute_result"
    }
   ],
   "source": [
    "dir(str)"
   ]
  },
  {
   "cell_type": "code",
   "execution_count": 23,
   "id": "8f1e38d6-7c82-41cc-9192-1947af5f4358",
   "metadata": {},
   "outputs": [
    {
     "name": "stdout",
     "output_type": "stream",
     "text": [
      "               Edunet Foundation                  \n"
     ]
    }
   ],
   "source": [
    "print(name.center(50))"
   ]
  },
  {
   "cell_type": "code",
   "execution_count": null,
   "id": "670e02c5",
   "metadata": {},
   "outputs": [],
   "source": [
    "combined\n",
    "empty_list1"
   ]
  },
  {
   "cell_type": "code",
   "execution_count": null,
   "id": "de56b902",
   "metadata": {},
   "outputs": [],
   "source": [
    "print(combined)\n",
    "print(empty_list1)"
   ]
  },
  {
   "cell_type": "code",
   "execution_count": 25,
   "id": "5c569128",
   "metadata": {},
   "outputs": [],
   "source": [
    "a = None"
   ]
  },
  {
   "cell_type": "code",
   "execution_count": 27,
   "id": "805ceffb",
   "metadata": {},
   "outputs": [],
   "source": [
    "a"
   ]
  },
  {
   "cell_type": "code",
   "execution_count": null,
   "id": "6f365183",
   "metadata": {},
   "outputs": [],
   "source": [
    "# b = "
   ]
  },
  {
   "cell_type": "code",
   "execution_count": 29,
   "id": "4987069e",
   "metadata": {},
   "outputs": [],
   "source": [
    "listinlist = [1,[2,3],3]"
   ]
  },
  {
   "cell_type": "code",
   "execution_count": 37,
   "id": "3db5e74a",
   "metadata": {
    "collapsed": true,
    "jupyter": {
     "outputs_hidden": true
    },
    "scrolled": true
   },
   "outputs": [
    {
     "data": {
      "text/plain": [
       "2"
      ]
     },
     "execution_count": 37,
     "metadata": {},
     "output_type": "execute_result"
    }
   ],
   "source": [
    "listinlist[1][0]"
   ]
  },
  {
   "cell_type": "markdown",
   "id": "243ebd70",
   "metadata": {},
   "source": [
    "## tuple datatype"
   ]
  },
  {
   "cell_type": "code",
   "execution_count": 39,
   "id": "42b6499a",
   "metadata": {},
   "outputs": [
    {
     "name": "stdout",
     "output_type": "stream",
     "text": [
      "<class 'tuple'>\n",
      "2\n",
      "3\n"
     ]
    }
   ],
   "source": [
    "tup1 = (2,3)\n",
    "print(type(tup1))\n",
    "\n",
    "(first,second) = tup1 #unpacking\n",
    "print(first)\n",
    "print(second)"
   ]
  },
  {
   "cell_type": "code",
   "execution_count": null,
   "id": "2e2eacb4",
   "metadata": {},
   "outputs": [],
   "source": [
    "first"
   ]
  },
  {
   "cell_type": "code",
   "execution_count": null,
   "id": "01509984",
   "metadata": {},
   "outputs": [],
   "source": [
    "second"
   ]
  },
  {
   "cell_type": "markdown",
   "id": "dd7bcf5d",
   "metadata": {},
   "source": [
    "### keywords with first letter caps"
   ]
  },
  {
   "cell_type": "markdown",
   "id": "e3c5d2be",
   "metadata": {},
   "source": [
    "True, False, None"
   ]
  },
  {
   "cell_type": "code",
   "execution_count": 43,
   "id": "e0cba3e1",
   "metadata": {},
   "outputs": [
    {
     "data": {
      "text/plain": [
       "True"
      ]
     },
     "execution_count": 43,
     "metadata": {},
     "output_type": "execute_result"
    }
   ],
   "source": []
  },
  {
   "cell_type": "code",
   "execution_count": null,
   "id": "4172749c-3e8e-40f8-b648-6cdb84882b07",
   "metadata": {},
   "outputs": [],
   "source": []
  }
 ],
 "metadata": {
  "kernelspec": {
   "display_name": "Python [conda env:base] *",
   "language": "python",
   "name": "conda-base-py"
  },
  "language_info": {
   "codemirror_mode": {
    "name": "ipython",
    "version": 3
   },
   "file_extension": ".py",
   "mimetype": "text/x-python",
   "name": "python",
   "nbconvert_exporter": "python",
   "pygments_lexer": "ipython3",
   "version": "3.12.7"
  }
 },
 "nbformat": 4,
 "nbformat_minor": 5
}

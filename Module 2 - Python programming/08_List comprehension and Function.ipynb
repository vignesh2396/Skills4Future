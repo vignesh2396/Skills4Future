{
 "cells": [
  {
   "cell_type": "markdown",
   "metadata": {},
   "source": [
    "# List comprehension"
   ]
  },
  {
   "cell_type": "code",
   "execution_count": null,
   "metadata": {},
   "outputs": [],
   "source": [
    "# syntax\n",
    "\n",
    "# [<exp> for <element> in <iterable>]"
   ]
  },
  {
   "cell_type": "code",
   "execution_count": null,
   "metadata": {},
   "outputs": [],
   "source": [
    "list_of_item = []\n",
    "for x in (1,2,3,4,5):\n",
    "    list_of_item.append(x*x)\n",
    "    \n",
    "print(list_of_item)"
   ]
  },
  {
   "cell_type": "code",
   "execution_count": null,
   "metadata": {},
   "outputs": [],
   "source": [
    "list_of_item1 = [x*x for x in (1,2,3,4,5)]\n",
    "print(list_of_item1)"
   ]
  },
  {
   "cell_type": "code",
   "execution_count": null,
   "metadata": {},
   "outputs": [],
   "source": [
    "# [<exp> for <element> in <iterable> if <cond>]\n",
    "# even = []\n",
    "# for i in range(11):\n",
    "#     if i%2==0:\n",
    "#         even.append(i)\n",
    "\n",
    "\n",
    "even = [i for i in range(11) if i%2==0]\n",
    "print(even)"
   ]
  },
  {
   "cell_type": "code",
   "execution_count": null,
   "metadata": {},
   "outputs": [],
   "source": [
    "# [<true stat> if <cond> else <false stat> for <element> in <iterable>]\n",
    "# string - hello world \n",
    "# output - *e**o *o***\n",
    "\n",
    "char = [vow if vow in 'aeiou' else '*' for vow in 'apple']\n",
    "print(char)\n",
    "\n",
    "new_str =''.join(char)\n",
    "print(new_str)"
   ]
  },
  {
   "cell_type": "code",
   "execution_count": null,
   "metadata": {},
   "outputs": [],
   "source": [
    "for i in range(5):\n",
    "    for j in range(5):\n",
    "        print(i,j)"
   ]
  },
  {
   "cell_type": "code",
   "execution_count": null,
   "metadata": {},
   "outputs": [],
   "source": [
    "val = [(i,j) for i in range(5) for j in range(5)]\n",
    "print(val)"
   ]
  },
  {
   "cell_type": "code",
   "execution_count": null,
   "metadata": {},
   "outputs": [],
   "source": []
  },
  {
   "cell_type": "markdown",
   "metadata": {},
   "source": [
    "# Functions"
   ]
  },
  {
   "cell_type": "markdown",
   "metadata": {},
   "source": [
    "* modular programming\n",
    "\n",
    "* Resuablity of code\n",
    "\n",
    "* manageability\n",
    "\n",
    "* Efficient code"
   ]
  },
  {
   "cell_type": "code",
   "execution_count": null,
   "metadata": {},
   "outputs": [],
   "source": [
    "def greeting():\n",
    "    print(\"Welcome to my program\")\n",
    "\n",
    "def fun1(var1, var2):\n",
    "    print()\n",
    "\n",
    "def fun2():\n",
    "    pass\n",
    "\n",
    "def return_fn():\n",
    "    return 'return value'\n",
    "# main program\n",
    "\n",
    "\n"
   ]
  },
  {
   "cell_type": "code",
   "execution_count": null,
   "metadata": {},
   "outputs": [],
   "source": [
    "greeting()"
   ]
  },
  {
   "cell_type": "code",
   "execution_count": null,
   "metadata": {},
   "outputs": [],
   "source": [
    "fun2()"
   ]
  },
  {
   "cell_type": "code",
   "execution_count": null,
   "metadata": {},
   "outputs": [],
   "source": [
    "print(return_fn())"
   ]
  },
  {
   "cell_type": "code",
   "execution_count": null,
   "metadata": {},
   "outputs": [],
   "source": []
  },
  {
   "cell_type": "markdown",
   "metadata": {},
   "source": [
    "## Simple Function"
   ]
  },
  {
   "cell_type": "code",
   "execution_count": null,
   "metadata": {},
   "outputs": [],
   "source": [
    "def greeting():\n",
    "    print(\"Welcome to my program\")\n",
    "\n",
    "greeting()"
   ]
  },
  {
   "cell_type": "markdown",
   "metadata": {},
   "source": [
    "## Function that allows for input"
   ]
  },
  {
   "cell_type": "code",
   "execution_count": null,
   "metadata": {},
   "outputs": [],
   "source": [
    "def greet_with_name(name):\n",
    "    print(\"Welcome to my program\")\n",
    "    print(f\"hi {name}\")\n",
    "    \n",
    "greet_with_name(name=\"edunet\")"
   ]
  },
  {
   "cell_type": "markdown",
   "metadata": {},
   "source": [
    "## Functions with more than 1 input"
   ]
  },
  {
   "cell_type": "code",
   "execution_count": null,
   "metadata": {},
   "outputs": [],
   "source": [
    "def stud_det(name,age):\n",
    "    print(f\"Your name is {name} and your age is {age}\")\n",
    "\n",
    "# position \n",
    "stud_det('vignesh',29)\n",
    "\n",
    "# name\n",
    "stud_det(age=27, name='Vignesh')"
   ]
  },
  {
   "cell_type": "markdown",
   "metadata": {},
   "source": [
    "## Return"
   ]
  },
  {
   "cell_type": "code",
   "execution_count": null,
   "metadata": {},
   "outputs": [],
   "source": [
    "def cube_of(x):\n",
    "    return x**3\n",
    "\n",
    "print(\"The cube of the given value is \",cube_of(3))"
   ]
  },
  {
   "cell_type": "markdown",
   "metadata": {},
   "source": [
    "## arbitrary arguments"
   ]
  },
  {
   "cell_type": "code",
   "execution_count": null,
   "metadata": {},
   "outputs": [],
   "source": [
    "def fruits(*name):\n",
    "    print(\"This fruit names are\", name)\n",
    "    \n",
    "    \n",
    "fruits(\"Apple\")\n",
    "fruits(\"Fig\", 'Cherry')"
   ]
  },
  {
   "cell_type": "code",
   "execution_count": null,
   "metadata": {},
   "outputs": [],
   "source": [
    "# scope\n",
    "# local and global scope\n",
    "\n",
    "def fun_1():\n",
    "    global a\n",
    "    a=10\n",
    "    print(a)\n",
    "\n",
    "a = 5\n",
    "print(\"before calling function\",a)\n",
    "fun_1()\n",
    "print(\"after calling function\",a)"
   ]
  },
  {
   "cell_type": "markdown",
   "metadata": {},
   "source": [
    "# recursion"
   ]
  },
  {
   "cell_type": "code",
   "execution_count": null,
   "metadata": {},
   "outputs": [],
   "source": [
    "def fib(n):\n",
    "    if n==1:\n",
    "        return 1\n",
    "    elif n==2:\n",
    "        return 1\n",
    "    else:\n",
    "        return (fib(n-1)+fib(n-2))\n",
    "# main program\n",
    "number = int(input('enter a number'))\n",
    "print(f\"The {number}th term of fibonnic series is\", fib(number))"
   ]
  },
  {
   "cell_type": "code",
   "execution_count": null,
   "metadata": {},
   "outputs": [],
   "source": []
  },
  {
   "cell_type": "code",
   "execution_count": null,
   "metadata": {},
   "outputs": [],
   "source": []
  },
  {
   "cell_type": "code",
   "execution_count": null,
   "metadata": {},
   "outputs": [],
   "source": []
  },
  {
   "cell_type": "markdown",
   "metadata": {},
   "source": [
    "# To find no. of paint can required for a wall"
   ]
  },
  {
   "cell_type": "markdown",
   "metadata": {},
   "source": [
    "__Instructions__\n",
    "You are painting a wall. The instructions on the paint can says that 1 can of paint can cover 5 square meters of wall. Given a random height and width of wall, calculate how many cans of paint you'll need to buy.\n",
    "\n",
    "number of cans = (wall height ✖️ wall width) ÷ coverage per can.\n",
    "\n",
    "e.g. Height = 2, Width = 4, Coverage = 5\n",
    "\n",
    "number of cans = (2 ✖️ 4) ÷ 5\n",
    "\n",
    "= 1.6\n",
    "But because you can't buy 0.6 of a can of paint, the result should be rounded up to 2 cans.\n",
    "\n",
    "__IMPORTANT: Notice the name of the function and parameters must match for the code to work.__"
   ]
  },
  {
   "cell_type": "code",
   "execution_count": null,
   "metadata": {},
   "outputs": [],
   "source": []
  },
  {
   "cell_type": "markdown",
   "metadata": {},
   "source": [
    "# To find prime number or not"
   ]
  },
  {
   "cell_type": "markdown",
   "metadata": {},
   "source": [
    "__Instructions__\n",
    "\n",
    "__`Prime numbers are numbers that can only be cleanly divided by itself and 1.`__\n",
    "\n",
    "You need to write a function that checks whether if the number passed into it is a prime number or not.\n",
    "\n",
    "e.g. 2 is a prime number because it's only divisible by 1 and 2.\n",
    "\n",
    "But 4 is not a prime number because you can divide it by 1, 2 or 4."
   ]
  },
  {
   "cell_type": "code",
   "execution_count": null,
   "metadata": {},
   "outputs": [],
   "source": []
  },
  {
   "cell_type": "markdown",
   "metadata": {},
   "source": [
    "# Caesar Cipher - encode and decode text\n",
    "\n",
    "### TODO-1: Create a function called 'encrypt' that takes the 'text' and 'shift' as inputs.\n",
    "\n",
    "### TODO-2: Inside the 'encrypt' function, shift each letter of the 'text' forwards in the alphabet by the shift amount and print the encrypted text.  \n",
    "    #e.g. \n",
    "    #plain_text = \"hello\"\n",
    "    #shift = 5\n",
    "    #cipher_text = \"mjqqt\"\n",
    "    #print output: \"The encoded text is mjqqt\"\n",
    "\n",
    "### TODO-3: Call the encrypt function and pass in the user inputs. You should be able to test the code and encrypt a message."
   ]
  },
  {
   "cell_type": "code",
   "execution_count": null,
   "metadata": {},
   "outputs": [],
   "source": []
  }
 ],
 "metadata": {
  "kernelspec": {
   "display_name": "Python [conda env:base] *",
   "language": "python",
   "name": "conda-base-py"
  },
  "language_info": {
   "codemirror_mode": {
    "name": "ipython",
    "version": 3
   },
   "file_extension": ".py",
   "mimetype": "text/x-python",
   "name": "python",
   "nbconvert_exporter": "python",
   "pygments_lexer": "ipython3",
   "version": "3.12.7"
  }
 },
 "nbformat": 4,
 "nbformat_minor": 4
}

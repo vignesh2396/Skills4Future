{
 "cells": [
  {
   "cell_type": "markdown",
   "id": "f516b9aa",
   "metadata": {},
   "source": [
    "# Set"
   ]
  },
  {
   "cell_type": "markdown",
   "id": "88349138",
   "metadata": {},
   "source": [
    "## 1: Add a list of elements to a set"
   ]
  },
  {
   "cell_type": "code",
   "execution_count": null,
   "id": "f09c72c0",
   "metadata": {},
   "outputs": [],
   "source": []
  },
  {
   "cell_type": "markdown",
   "id": "288b90f4",
   "metadata": {},
   "source": [
    "## 2: Return a new set of identical items from two sets"
   ]
  },
  {
   "cell_type": "code",
   "execution_count": null,
   "id": "a6759d84",
   "metadata": {},
   "outputs": [],
   "source": []
  },
  {
   "cell_type": "markdown",
   "id": "6b08a40c",
   "metadata": {},
   "source": [
    "## 3: Get Only unique items from two sets"
   ]
  },
  {
   "cell_type": "code",
   "execution_count": null,
   "id": "ad2ed430",
   "metadata": {},
   "outputs": [],
   "source": []
  },
  {
   "cell_type": "markdown",
   "id": "7cba2841",
   "metadata": {},
   "source": [
    "## 4: Update the first set with items that don’t exist in the second set"
   ]
  },
  {
   "cell_type": "code",
   "execution_count": null,
   "id": "0e29fe1d",
   "metadata": {},
   "outputs": [],
   "source": []
  },
  {
   "cell_type": "markdown",
   "id": "c87b3efa",
   "metadata": {},
   "source": [
    "## 5: Remove items from the set at once"
   ]
  },
  {
   "cell_type": "code",
   "execution_count": null,
   "id": "edbf1cfc",
   "metadata": {},
   "outputs": [],
   "source": []
  },
  {
   "cell_type": "markdown",
   "id": "b78758bc",
   "metadata": {},
   "source": [
    "## 6: Return a set of elements present in Set A or B, but not both"
   ]
  },
  {
   "cell_type": "code",
   "execution_count": null,
   "id": "5948f5c2",
   "metadata": {},
   "outputs": [],
   "source": []
  },
  {
   "cell_type": "markdown",
   "id": "29ffc40d",
   "metadata": {},
   "source": [
    "## 7: Check if two sets have any elements in common. If yes, display the common elements"
   ]
  },
  {
   "cell_type": "code",
   "execution_count": null,
   "id": "647cdbaa",
   "metadata": {},
   "outputs": [],
   "source": []
  },
  {
   "cell_type": "markdown",
   "id": "49a768b4",
   "metadata": {},
   "source": [
    "## 8: Update set1 by adding items from set2, except common items"
   ]
  },
  {
   "cell_type": "code",
   "execution_count": null,
   "id": "f4006529",
   "metadata": {},
   "outputs": [],
   "source": []
  },
  {
   "cell_type": "markdown",
   "id": "95ca8c69",
   "metadata": {},
   "source": [
    "## 9: Remove items from set1 that are not common to both set1 and set2"
   ]
  },
  {
   "cell_type": "code",
   "execution_count": null,
   "id": "cbca0f74",
   "metadata": {},
   "outputs": [],
   "source": []
  },
  {
   "cell_type": "markdown",
   "id": "548e9728",
   "metadata": {},
   "source": [
    "# dictionary"
   ]
  },
  {
   "cell_type": "markdown",
   "id": "a6546cf9",
   "metadata": {},
   "source": [
    "## 1. create a dictionary from the following two lists:\n",
    "__keys = ['one','two','three']__\n",
    "\n",
    "__values = [1,2,3]__"
   ]
  },
  {
   "cell_type": "code",
   "execution_count": null,
   "id": "80069cb6",
   "metadata": {},
   "outputs": [],
   "source": []
  },
  {
   "cell_type": "markdown",
   "id": "f909f8d1",
   "metadata": {},
   "source": [
    "## 2. create a dictionary for n students in a class with roll number as key, name and marks as values and display the names of students who have marks above 75."
   ]
  },
  {
   "cell_type": "code",
   "execution_count": null,
   "id": "72f285cf",
   "metadata": {},
   "outputs": [],
   "source": []
  },
  {
   "cell_type": "markdown",
   "id": "a3136868",
   "metadata": {},
   "source": [
    "## 3. write a program to print the maximum, minimun, sum of keys as well as values of numbers dictionary as given below.\n",
    "__numbers = {1:111, 2:222, 3:333, 4:444}__"
   ]
  },
  {
   "cell_type": "code",
   "execution_count": null,
   "id": "23578bf6",
   "metadata": {},
   "outputs": [],
   "source": []
  },
  {
   "cell_type": "markdown",
   "id": "6576777c",
   "metadata": {},
   "source": [
    "## 4. You have access to a database of student_scores in the format of a dictionary. The keys in student_scores are the names of the students and the values are their exam scores."
   ]
  },
  {
   "cell_type": "code",
   "execution_count": null,
   "id": "e46f1ca4",
   "metadata": {},
   "outputs": [],
   "source": []
  },
  {
   "cell_type": "markdown",
   "id": "ef1349a0",
   "metadata": {},
   "source": [
    "## Instructions\n",
    "You have access to a database of `student_scores` in the format of a `dictionary`. __The keys in student_scores are the names of the students and the values are their exam scores.__\n",
    "\n",
    "__Write a program that converts their scores to grades. By the end of your program, you should have a new dictionary called `student_grades` that should contain student names for keys and their grades for values. The final version of the student_grades dictionary will be checked.__\n",
    "\n",
    "This is the scoring criteria:\n",
    "\n",
    "`Scores 91 - 100: Grade = \"Outstanding\"`\n",
    "\n",
    "`Scores 81 - 90: Grade = \"Exceeds Expectations\"`\n",
    "\n",
    "`Scores 71 - 80: Grade = \"Acceptable\"`\n",
    "\n",
    "`Scores 70 or lower: Grade = \"Fail\"`\n",
    "\n",
    "### Expected Output example\n",
    "`'{'Harry': 'Exceeds Expectations', 'Ron': 'Acceptable', 'Hermione': 'Outstanding', 'Draco': 'Acceptable', 'Neville': 'Fail'}'`"
   ]
  },
  {
   "cell_type": "code",
   "execution_count": null,
   "id": "a2b3beb0",
   "metadata": {},
   "outputs": [],
   "source": []
  }
 ],
 "metadata": {
  "kernelspec": {
   "display_name": "Python [conda env:base] *",
   "language": "python",
   "name": "conda-base-py"
  },
  "language_info": {
   "codemirror_mode": {
    "name": "ipython",
    "version": 3
   },
   "file_extension": ".py",
   "mimetype": "text/x-python",
   "name": "python",
   "nbconvert_exporter": "python",
   "pygments_lexer": "ipython3",
   "version": "3.12.7"
  }
 },
 "nbformat": 4,
 "nbformat_minor": 5
}

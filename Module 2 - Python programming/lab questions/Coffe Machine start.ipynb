{
 "cells": [
  {
   "cell_type": "code",
   "execution_count": null,
   "id": "88bf50c4",
   "metadata": {},
   "outputs": [],
   "source": [
    "MENU = {\n",
    "    \"espresso\":{\n",
    "        \"ingredients\":{\n",
    "            \"water\":50,\n",
    "            \"coffee\":18,\n",
    "        },\n",
    "        \"cost\": 1.5,\n",
    "    },\n",
    "    \n",
    "    \"latte\":{\n",
    "        \"ingredients\":{\n",
    "            \"water\": 200,\n",
    "            \"milk\": 150,\n",
    "            \"coffee\": 24,\n",
    "        },\n",
    "        \"cost\": 2.5,\n",
    "    },\n",
    "    \n",
    "    \"cappuccino\":{\n",
    "        \"ingredients\":{\n",
    "            \"water\": 250,\n",
    "            \"milk\": 100,\n",
    "            \"coffee\": 24,\n",
    "        },\n",
    "       \"cost\": 3.0, \n",
    "    }\n",
    "}\n",
    "\n",
    "\n",
    "resources = {\n",
    "    \"water\": 300,\n",
    "    \"milk\":200,\n",
    "    \"coffee\":100,\n",
    "}"
   ]
  }
 ],
 "metadata": {
  "kernelspec": {
   "display_name": "Python [conda env:base] *",
   "language": "python",
   "name": "conda-base-py"
  },
  "language_info": {
   "codemirror_mode": {
    "name": "ipython",
    "version": 3
   },
   "file_extension": ".py",
   "mimetype": "text/x-python",
   "name": "python",
   "nbconvert_exporter": "python",
   "pygments_lexer": "ipython3",
   "version": "3.12.7"
  }
 },
 "nbformat": 4,
 "nbformat_minor": 5
}

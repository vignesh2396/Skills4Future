{
 "cells": [
  {
   "cell_type": "code",
   "execution_count": 2,
   "id": "9dfa52ae",
   "metadata": {},
   "outputs": [
    {
     "name": "stdout",
     "output_type": "stream",
     "text": [
      "<class '__main__.Point'>\n",
      "True\n"
     ]
    }
   ],
   "source": [
    "class Point:\n",
    "    def draw(self):\n",
    "        print(\"draw\")\n",
    "        \n",
    "\n",
    "point = Point()\n",
    "print(type(point))\n",
    "print(isinstance(point, Point))"
   ]
  },
  {
   "cell_type": "markdown",
   "id": "58ac779a",
   "metadata": {},
   "source": [
    "# Constructor"
   ]
  },
  {
   "cell_type": "markdown",
   "id": "2a032546-89e7-435c-93b4-b88bf847fa42",
   "metadata": {},
   "source": [
    "### default constructor / non parameterized constructor"
   ]
  },
  {
   "cell_type": "code",
   "execution_count": 4,
   "id": "7be282a5",
   "metadata": {},
   "outputs": [
    {
     "name": "stdout",
     "output_type": "stream",
     "text": [
      "init method called by default\n"
     ]
    }
   ],
   "source": [
    "class Student:\n",
    "    id_no = 10 # class variables\n",
    "    name = 'stud1'\n",
    "    def __init__(self):        \n",
    "        print(\"init method called by default\")\n",
    "\n",
    "        \n",
    "stud = Student()"
   ]
  },
  {
   "cell_type": "code",
   "execution_count": 6,
   "id": "fe22614e",
   "metadata": {},
   "outputs": [
    {
     "data": {
      "text/plain": [
       "10"
      ]
     },
     "execution_count": 6,
     "metadata": {},
     "output_type": "execute_result"
    }
   ],
   "source": [
    "stud.id_no"
   ]
  },
  {
   "cell_type": "code",
   "execution_count": 8,
   "id": "0db28d39",
   "metadata": {},
   "outputs": [
    {
     "data": {
      "text/plain": [
       "10"
      ]
     },
     "execution_count": 8,
     "metadata": {},
     "output_type": "execute_result"
    }
   ],
   "source": [
    "Student.id_no"
   ]
  },
  {
   "cell_type": "markdown",
   "id": "6cdffa21-b1b1-46be-ab33-f8762d097723",
   "metadata": {},
   "source": [
    "### parameterized constructor"
   ]
  },
  {
   "cell_type": "code",
   "execution_count": 17,
   "id": "919b9f65",
   "metadata": {},
   "outputs": [],
   "source": [
    "class Person:\n",
    "    def __init__(self, name, age):\n",
    "        self.name = name # instance variable\n",
    "        self.age = age\n",
    "        \n",
    "    def myfun(self):\n",
    "        print(f\"Hello my name is {self.name} and I am {self.age} years old\")\n",
    "        \n",
    "\n",
    "p1 = Person('Jack', 20)"
   ]
  },
  {
   "cell_type": "code",
   "execution_count": 19,
   "id": "28fd7dbb",
   "metadata": {},
   "outputs": [
    {
     "name": "stdout",
     "output_type": "stream",
     "text": [
      "Jack\n",
      "20\n",
      "Hello my name is Jack and I am 20 years old\n"
     ]
    }
   ],
   "source": [
    "print(p1.name)\n",
    "print(p1.age)\n",
    "\n",
    "p1.myfun()"
   ]
  },
  {
   "cell_type": "code",
   "execution_count": 21,
   "id": "3f9da1b5",
   "metadata": {},
   "outputs": [
    {
     "name": "stdout",
     "output_type": "stream",
     "text": [
      "This is second constructor\n"
     ]
    }
   ],
   "source": [
    "class MulConst:\n",
    "    def __init__(self):\n",
    "        print(\"This is first constructor\")\n",
    "        \n",
    "    def __init__(self):\n",
    "        print(\"This is second constructor\")\n",
    "        \n",
    "p1 = MulConst()"
   ]
  },
  {
   "cell_type": "code",
   "execution_count": null,
   "id": "f3b171c5",
   "metadata": {},
   "outputs": [],
   "source": [
    "Student.id_no = 20"
   ]
  },
  {
   "cell_type": "code",
   "execution_count": null,
   "id": "cbf15303",
   "metadata": {},
   "outputs": [],
   "source": [
    "obj = Student()"
   ]
  },
  {
   "cell_type": "code",
   "execution_count": null,
   "id": "df85256f",
   "metadata": {},
   "outputs": [],
   "source": [
    "obj.id_no"
   ]
  },
  {
   "cell_type": "markdown",
   "id": "cad11baf-cce3-4a9c-a69c-0394ee5628c8",
   "metadata": {},
   "source": [
    "### magic method"
   ]
  },
  {
   "cell_type": "code",
   "execution_count": 24,
   "id": "46213761",
   "metadata": {},
   "outputs": [
    {
     "name": "stdout",
     "output_type": "stream",
     "text": [
      "__str__ magic function\n"
     ]
    }
   ],
   "source": [
    "class Point:\n",
    "    \n",
    "    def __init__(self, x,y):\n",
    "        self.x = x\n",
    "        self.y = y\n",
    "        \n",
    "    def __str__(self):\n",
    "        return (f\"__str__ magic function\")\n",
    "    \n",
    "    def draw(self):\n",
    "        print(f\"Point ({self.x}, {self.y})\")\n",
    "\n",
    "point = Point(3,9)\n",
    "# print(point.__str__())\n",
    "print(str(point))"
   ]
  },
  {
   "cell_type": "code",
   "execution_count": 26,
   "id": "733afea8",
   "metadata": {},
   "outputs": [
    {
     "name": "stdout",
     "output_type": "stream",
     "text": [
      "Point (3, 9)\n"
     ]
    }
   ],
   "source": [
    "point.draw()"
   ]
  },
  {
   "cell_type": "markdown",
   "id": "f3375825-fa4b-4125-b22a-1b90968f7bbd",
   "metadata": {},
   "source": [
    "### comparision magic methods"
   ]
  },
  {
   "cell_type": "code",
   "execution_count": 29,
   "id": "9df60787",
   "metadata": {},
   "outputs": [
    {
     "name": "stdout",
     "output_type": "stream",
     "text": [
      "False\n",
      "True\n"
     ]
    }
   ],
   "source": [
    "class Point:\n",
    "    \n",
    "    def __init__(self, x,y):\n",
    "        self.x = x\n",
    "        self.y = y\n",
    "    \n",
    "    def __eq__(self,other):\n",
    "        return self.x == other.x and self.y == other.y\n",
    "    \n",
    "    def __lt__(self, other):\n",
    "        return self.x < other.x and self.y < other.y\n",
    "\n",
    "point = Point(3,9)\n",
    "another_point = Point(13,19)\n",
    "\n",
    "print(point == another_point)\n",
    "print(point < another_point)"
   ]
  },
  {
   "cell_type": "markdown",
   "id": "1a80cbd9-b1de-431c-96e6-93f4842bd895",
   "metadata": {},
   "source": [
    "### numeric magic method"
   ]
  },
  {
   "cell_type": "code",
   "execution_count": 32,
   "id": "a3f0570a",
   "metadata": {},
   "outputs": [
    {
     "name": "stdout",
     "output_type": "stream",
     "text": [
      "16 28\n",
      "-10 -10\n"
     ]
    }
   ],
   "source": [
    "class Point:\n",
    "    \n",
    "    def __init__(self, x,y):\n",
    "        self.x = x\n",
    "        self.y = y\n",
    "    \n",
    "    def __add__(self, other):\n",
    "        return Point(self.x + other.x, self.y + other.y)\n",
    "    \n",
    "    def __sub__(self, other):\n",
    "        return Point(self.x - other.x, self.y - other.y)\n",
    "\n",
    "point = Point(3,9)\n",
    "another_point = Point(13,19)\n",
    "\n",
    "comp_add = point + another_point\n",
    "print(comp_add.x, comp_add.y)\n",
    "\n",
    "comp_sub = point - another_point\n",
    "print(comp_sub.x, comp_sub.y)"
   ]
  },
  {
   "cell_type": "code",
   "execution_count": null,
   "id": "92ddd354",
   "metadata": {},
   "outputs": [],
   "source": [
    "# delete a object property\n",
    "\n",
    "del point.y"
   ]
  },
  {
   "cell_type": "code",
   "execution_count": null,
   "id": "84a47dba",
   "metadata": {},
   "outputs": [],
   "source": [
    "point.y"
   ]
  },
  {
   "cell_type": "code",
   "execution_count": null,
   "id": "0138642c",
   "metadata": {},
   "outputs": [],
   "source": [
    "another_point.y"
   ]
  },
  {
   "cell_type": "code",
   "execution_count": null,
   "id": "5e9c1e5e",
   "metadata": {},
   "outputs": [],
   "source": [
    "del another_point"
   ]
  },
  {
   "cell_type": "code",
   "execution_count": null,
   "id": "525d3474",
   "metadata": {},
   "outputs": [],
   "source": [
    "another_point"
   ]
  },
  {
   "cell_type": "code",
   "execution_count": null,
   "id": "9c02567d",
   "metadata": {},
   "outputs": [],
   "source": []
  }
 ],
 "metadata": {
  "kernelspec": {
   "display_name": "Python [conda env:base] *",
   "language": "python",
   "name": "conda-base-py"
  },
  "language_info": {
   "codemirror_mode": {
    "name": "ipython",
    "version": 3
   },
   "file_extension": ".py",
   "mimetype": "text/x-python",
   "name": "python",
   "nbconvert_exporter": "python",
   "pygments_lexer": "ipython3",
   "version": "3.12.7"
  }
 },
 "nbformat": 4,
 "nbformat_minor": 5
}

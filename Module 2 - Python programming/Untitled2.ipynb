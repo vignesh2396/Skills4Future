{
 "cells": [
  {
   "cell_type": "code",
   "execution_count": 1,
   "id": "bf997b52-9a41-4a72-89ce-a2b937ae3f48",
   "metadata": {
    "collapsed": true,
    "jupyter": {
     "outputs_hidden": true
    }
   },
   "outputs": [
    {
     "name": "stdin",
     "output_type": "stream",
     "text": [
      "Enter the size of list 4\n",
      " 2\n",
      " 4\n",
      " 8\n",
      " 6\n",
      "Enter the element of list to delete 8\n"
     ]
    },
    {
     "name": "stdout",
     "output_type": "stream",
     "text": [
      "[2, 4, 8, 6]\n",
      "[2, 4, 6]\n"
     ]
    }
   ],
   "source": [
    "List=[]\n",
    "List2=[]\n",
    "size=int(input(\"Enter the size of list\"))\n",
    "for i in range(0,size):\n",
    "    num=int(input())\n",
    "    List.append(num)\n",
    "element=int(input(\"Enter the element of list to delete\"))\n",
    "for j in List:\n",
    "    if(j != element):\n",
    "        List2.append(j)\n",
    "print(List)\n",
    "print(List2)"
   ]
  },
  {
   "cell_type": "code",
   "execution_count": null,
   "id": "af2272d2-2918-4083-b5db-9c136223a1f0",
   "metadata": {},
   "outputs": [],
   "source": []
  }
 ],
 "metadata": {
  "kernelspec": {
   "display_name": "Python [conda env:base] *",
   "language": "python",
   "name": "conda-base-py"
  },
  "language_info": {
   "codemirror_mode": {
    "name": "ipython",
    "version": 3
   },
   "file_extension": ".py",
   "mimetype": "text/x-python",
   "name": "python",
   "nbconvert_exporter": "python",
   "pygments_lexer": "ipython3",
   "version": "3.12.7"
  }
 },
 "nbformat": 4,
 "nbformat_minor": 5
}

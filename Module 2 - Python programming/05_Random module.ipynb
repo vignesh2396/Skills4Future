{
 "cells": [
  {
   "cell_type": "markdown",
   "metadata": {},
   "source": [
    "# Random module Programs\n",
    "* [Head or Tails](#Head-or-Tails)\n",
    "* [Split the bill](#Split-the-bill)\n",
    "* [Rock Paper Scissors](#Rock-Paper-Scissors)"
   ]
  },
  {
   "cell_type": "code",
   "execution_count": null,
   "metadata": {},
   "outputs": [],
   "source": [
    "import random"
   ]
  },
  {
   "cell_type": "code",
   "execution_count": null,
   "metadata": {},
   "outputs": [],
   "source": [
    "#import random as rand"
   ]
  },
  {
   "cell_type": "code",
   "execution_count": null,
   "metadata": {},
   "outputs": [],
   "source": [
    "from random import randint"
   ]
  },
  {
   "cell_type": "code",
   "execution_count": null,
   "metadata": {
    "collapsed": true,
    "jupyter": {
     "outputs_hidden": true
    }
   },
   "outputs": [],
   "source": [
    "dir(random)"
   ]
  },
  {
   "cell_type": "code",
   "execution_count": null,
   "metadata": {},
   "outputs": [],
   "source": [
    "import random\n",
    "\n",
    "randominteger = random.randint(1,10)\n",
    "print(randominteger)\n",
    "\n",
    "randomfloat = random.random() * 5\n",
    "print(randomfloat)"
   ]
  },
  {
   "cell_type": "markdown",
   "metadata": {},
   "source": [
    "# Head or Tails"
   ]
  },
  {
   "cell_type": "markdown",
   "metadata": {},
   "source": [
    "## Instructions\n",
    "You are going to write a virtual coin toss program. It will randomly tell the user \"Heads\" or \"Tails\".\n",
    "\n",
    "Important, you should generate a random number, either 0 or 1. Then use that number to print out Heads or Tails.\n",
    "\n",
    "e.g. 1 means Heads 0 means Tails"
   ]
  },
  {
   "cell_type": "code",
   "execution_count": 5,
   "metadata": {
    "collapsed": true,
    "jupyter": {
     "outputs_hidden": true
    }
   },
   "outputs": [
    {
     "name": "stdout",
     "output_type": "stream",
     "text": [
      "Head\n",
      "Head\n",
      "Head\n",
      "Head\n",
      "Tail\n",
      "Head\n",
      "Head\n",
      "Tail\n",
      "Tail\n",
      "Tail\n"
     ]
    }
   ],
   "source": [
    "import random\n",
    "\n",
    "for i in range(10):\n",
    "    toss = random.randint(0,1)\n",
    "    if toss == 1:\n",
    "        print(\"Head\")\n",
    "    else:\n",
    "        print(\"Tail\")"
   ]
  },
  {
   "cell_type": "markdown",
   "metadata": {},
   "source": [
    "# Split the bill"
   ]
  },
  {
   "cell_type": "markdown",
   "metadata": {},
   "source": [
    "## Instructions\n",
    "You are going to write a program which will select a random name from a list of names. The person selected will have to pay for everybody's food bill.\n",
    "\n",
    "__Important: You are not allowed to use the choice() function.__\n",
    "\n",
    "Split the string into individual names and puts them inside a List called names. For this to work, you must enter all the names as name followed by comma then space. e.g. name, name, name"
   ]
  },
  {
   "cell_type": "code",
   "execution_count": null,
   "metadata": {},
   "outputs": [],
   "source": [
    "import random\n",
    "name = input(\"Enter all the names seperated by commas :\")\n",
    "names = name.split(\",\")"
   ]
  },
  {
   "cell_type": "code",
   "execution_count": null,
   "metadata": {},
   "outputs": [],
   "source": [
    "# method 1 : using randint\n",
    "i = random.randint(0,len(names)-1)\n",
    "print(names[i],\"is going to buy the meal today!!\")"
   ]
  },
  {
   "cell_type": "code",
   "execution_count": null,
   "metadata": {},
   "outputs": [],
   "source": [
    "# method 2 : using random.choice\n",
    "who = random.choice(names)\n",
    "print(who,\"is going to buy the meal today!!\")"
   ]
  },
  {
   "cell_type": "markdown",
   "metadata": {},
   "source": [
    "# Rock Paper Scissors"
   ]
  },
  {
   "cell_type": "markdown",
   "metadata": {},
   "source": [
    "## Instructions\n",
    "\n",
    "Make a rock, paper, scissors game.\n",
    "\n",
    "Start the game by asking the player:\n",
    "\n",
    "\"What do you choose? Type 0 for Rock, 1 for Paper or 2 for Scissors.\"\n",
    "\n",
    "__From there you will need to figure out:__\n",
    "\n",
    "* How you will store the user's input.\n",
    "* How you will generate a random choice for the computer.\n",
    "* How you will compare the user's and the computer's choice to determine the winner (or a draw).\n",
    "* And also how you will give feedback to the player."
   ]
  },
  {
   "cell_type": "code",
   "execution_count": null,
   "metadata": {},
   "outputs": [],
   "source": [
    "import random\n",
    "rock = '''\n",
    "    _______\n",
    "---'   ____)\n",
    "      (_____)\n",
    "      (_____)\n",
    "      (____)\n",
    "---.__(___)\n",
    "'''\n",
    "\n",
    "paper = '''\n",
    "    _______\n",
    "---'   ____)____\n",
    "          ______)\n",
    "          _______)\n",
    "         _______)\n",
    "---.__________)\n",
    "'''\n",
    "\n",
    "scissors = '''\n",
    "    _______\n",
    "---'   ____)____\n",
    "          ______)\n",
    "       __________)\n",
    "      (____)\n",
    "---.__(___)\n",
    "'''\n",
    "\n",
    "game_input = [rock, paper, scissors]\n",
    "# game_input = [\"rock\", \"paper\", \"scissors\"]\n",
    "user_input = int(input(\"0 - rock \\n1 - paper \\n2 - scisors \\n\"))\n",
    "\n",
    "if user_input > 2 or user_input < 0:\n",
    "    print(\"You entered a invalid number\")\n",
    "else:\n",
    "    print(\"Your choice,\", game_input[user_input])\n",
    "\n",
    "    computer_choice = random.randint(0,2)\n",
    "    print(\"computer choice,\", game_input[computer_choice])\n",
    "\n",
    "    if user_input == 0 and computer_choice == 2:\n",
    "        print(\"You Won\")\n",
    "    elif computer_choice == 0 and user_input == 2:\n",
    "        print(\"You Lose\")\n",
    "    elif user_input > computer_choice:\n",
    "        print(\"You Won\")\n",
    "    elif user_input < computer_choice:\n",
    "        print(\"You Lose\")\n",
    "    # elif user_input == computer_choice:\n",
    "    #     print(\"Draw\")\n",
    "    else:\n",
    "        print(\"Draw\")"
   ]
  },
  {
   "cell_type": "code",
   "execution_count": null,
   "metadata": {},
   "outputs": [],
   "source": []
  }
 ],
 "metadata": {
  "kernelspec": {
   "display_name": "Python [conda env:base] *",
   "language": "python",
   "name": "conda-base-py"
  },
  "language_info": {
   "codemirror_mode": {
    "name": "ipython",
    "version": 3
   },
   "file_extension": ".py",
   "mimetype": "text/x-python",
   "name": "python",
   "nbconvert_exporter": "python",
   "pygments_lexer": "ipython3",
   "version": "3.12.7"
  }
 },
 "nbformat": 4,
 "nbformat_minor": 4
}
